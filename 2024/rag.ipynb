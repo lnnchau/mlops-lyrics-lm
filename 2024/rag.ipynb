{
 "cells": [
  {
   "cell_type": "code",
   "execution_count": 1,
   "metadata": {},
   "outputs": [
    {
     "name": "stdout",
     "output_type": "stream",
     "text": [
      "Requirement already satisfied: langchain_community in /Users/chau_le/.pyenv/versions/3.11.0/envs/rag-venv/lib/python3.11/site-packages (0.3.16)\n",
      "Requirement already satisfied: tiktoken in /Users/chau_le/.pyenv/versions/3.11.0/envs/rag-venv/lib/python3.11/site-packages (0.8.0)\n",
      "Requirement already satisfied: langchain-openai in /Users/chau_le/.pyenv/versions/3.11.0/envs/rag-venv/lib/python3.11/site-packages (0.2.12)\n",
      "Requirement already satisfied: langchainhub in /Users/chau_le/.pyenv/versions/3.11.0/envs/rag-venv/lib/python3.11/site-packages (0.1.21)\n",
      "Requirement already satisfied: chromadb in /Users/chau_le/.pyenv/versions/3.11.0/envs/rag-venv/lib/python3.11/site-packages (0.5.23)\n",
      "Requirement already satisfied: langchain in /Users/chau_le/.pyenv/versions/3.11.0/envs/rag-venv/lib/python3.11/site-packages (0.3.17)\n",
      "Requirement already satisfied: bs4 in /Users/chau_le/.pyenv/versions/3.11.0/envs/rag-venv/lib/python3.11/site-packages (0.0.2)\n",
      "Requirement already satisfied: PyYAML>=5.3 in /Users/chau_le/.pyenv/versions/3.11.0/envs/rag-venv/lib/python3.11/site-packages (from langchain_community) (6.0.2)\n",
      "Requirement already satisfied: SQLAlchemy<3,>=1.4 in /Users/chau_le/.pyenv/versions/3.11.0/envs/rag-venv/lib/python3.11/site-packages (from langchain_community) (2.0.36)\n",
      "Requirement already satisfied: aiohttp<4.0.0,>=3.8.3 in /Users/chau_le/.pyenv/versions/3.11.0/envs/rag-venv/lib/python3.11/site-packages (from langchain_community) (3.11.10)\n",
      "Requirement already satisfied: dataclasses-json<0.7,>=0.5.7 in /Users/chau_le/.pyenv/versions/3.11.0/envs/rag-venv/lib/python3.11/site-packages (from langchain_community) (0.6.7)\n",
      "Requirement already satisfied: httpx-sse<0.5.0,>=0.4.0 in /Users/chau_le/.pyenv/versions/3.11.0/envs/rag-venv/lib/python3.11/site-packages (from langchain_community) (0.4.0)\n",
      "Requirement already satisfied: langchain-core<0.4.0,>=0.3.32 in /Users/chau_le/.pyenv/versions/3.11.0/envs/rag-venv/lib/python3.11/site-packages (from langchain_community) (0.3.33)\n",
      "Requirement already satisfied: langsmith<0.4,>=0.1.125 in /Users/chau_le/.pyenv/versions/3.11.0/envs/rag-venv/lib/python3.11/site-packages (from langchain_community) (0.2.3)\n",
      "Requirement already satisfied: numpy<2,>=1.22.4 in /Users/chau_le/.pyenv/versions/3.11.0/envs/rag-venv/lib/python3.11/site-packages (from langchain_community) (1.26.4)\n",
      "Requirement already satisfied: pydantic-settings<3.0.0,>=2.4.0 in /Users/chau_le/.pyenv/versions/3.11.0/envs/rag-venv/lib/python3.11/site-packages (from langchain_community) (2.7.0)\n",
      "Requirement already satisfied: requests<3,>=2 in /Users/chau_le/.pyenv/versions/3.11.0/envs/rag-venv/lib/python3.11/site-packages (from langchain_community) (2.32.3)\n",
      "Requirement already satisfied: tenacity!=8.4.0,<10,>=8.1.0 in /Users/chau_le/.pyenv/versions/3.11.0/envs/rag-venv/lib/python3.11/site-packages (from langchain_community) (9.0.0)\n",
      "Requirement already satisfied: regex>=2022.1.18 in /Users/chau_le/.pyenv/versions/3.11.0/envs/rag-venv/lib/python3.11/site-packages (from tiktoken) (2024.11.6)\n",
      "Requirement already satisfied: openai<2.0.0,>=1.55.3 in /Users/chau_le/.pyenv/versions/3.11.0/envs/rag-venv/lib/python3.11/site-packages (from langchain-openai) (1.58.1)\n",
      "Requirement already satisfied: packaging<25,>=23.2 in /Users/chau_le/.pyenv/versions/3.11.0/envs/rag-venv/lib/python3.11/site-packages (from langchainhub) (24.2)\n",
      "Requirement already satisfied: types-requests<3.0.0.0,>=2.31.0.2 in /Users/chau_le/.pyenv/versions/3.11.0/envs/rag-venv/lib/python3.11/site-packages (from langchainhub) (2.32.0.20241016)\n",
      "Requirement already satisfied: build>=1.0.3 in /Users/chau_le/.pyenv/versions/3.11.0/envs/rag-venv/lib/python3.11/site-packages (from chromadb) (1.2.2.post1)\n",
      "Requirement already satisfied: pydantic>=1.9 in /Users/chau_le/.pyenv/versions/3.11.0/envs/rag-venv/lib/python3.11/site-packages (from chromadb) (2.10.3)\n",
      "Requirement already satisfied: chroma-hnswlib==0.7.6 in /Users/chau_le/.pyenv/versions/3.11.0/envs/rag-venv/lib/python3.11/site-packages (from chromadb) (0.7.6)\n",
      "Requirement already satisfied: fastapi>=0.95.2 in /Users/chau_le/.pyenv/versions/3.11.0/envs/rag-venv/lib/python3.11/site-packages (from chromadb) (0.115.6)\n",
      "Requirement already satisfied: uvicorn>=0.18.3 in /Users/chau_le/.pyenv/versions/3.11.0/envs/rag-venv/lib/python3.11/site-packages (from uvicorn[standard]>=0.18.3->chromadb) (0.34.0)\n",
      "Requirement already satisfied: posthog>=2.4.0 in /Users/chau_le/.pyenv/versions/3.11.0/envs/rag-venv/lib/python3.11/site-packages (from chromadb) (3.7.4)\n",
      "Requirement already satisfied: typing_extensions>=4.5.0 in /Users/chau_le/.pyenv/versions/3.11.0/envs/rag-venv/lib/python3.11/site-packages (from chromadb) (4.12.2)\n",
      "Requirement already satisfied: onnxruntime>=1.14.1 in /Users/chau_le/.pyenv/versions/3.11.0/envs/rag-venv/lib/python3.11/site-packages (from chromadb) (1.20.1)\n",
      "Requirement already satisfied: opentelemetry-api>=1.2.0 in /Users/chau_le/.pyenv/versions/3.11.0/envs/rag-venv/lib/python3.11/site-packages (from chromadb) (1.29.0)\n",
      "Requirement already satisfied: opentelemetry-exporter-otlp-proto-grpc>=1.2.0 in /Users/chau_le/.pyenv/versions/3.11.0/envs/rag-venv/lib/python3.11/site-packages (from chromadb) (1.29.0)\n",
      "Requirement already satisfied: opentelemetry-instrumentation-fastapi>=0.41b0 in /Users/chau_le/.pyenv/versions/3.11.0/envs/rag-venv/lib/python3.11/site-packages (from chromadb) (0.50b0)\n",
      "Requirement already satisfied: opentelemetry-sdk>=1.2.0 in /Users/chau_le/.pyenv/versions/3.11.0/envs/rag-venv/lib/python3.11/site-packages (from chromadb) (1.29.0)\n",
      "Collecting tokenizers<=0.20.3,>=0.13.2 (from chromadb)\n",
      "  Using cached tokenizers-0.20.3-cp311-cp311-macosx_11_0_arm64.whl.metadata (6.7 kB)\n",
      "Requirement already satisfied: pypika>=0.48.9 in /Users/chau_le/.pyenv/versions/3.11.0/envs/rag-venv/lib/python3.11/site-packages (from chromadb) (0.48.9)\n",
      "Requirement already satisfied: tqdm>=4.65.0 in /Users/chau_le/.pyenv/versions/3.11.0/envs/rag-venv/lib/python3.11/site-packages (from chromadb) (4.67.1)\n",
      "Requirement already satisfied: overrides>=7.3.1 in /Users/chau_le/.pyenv/versions/3.11.0/envs/rag-venv/lib/python3.11/site-packages (from chromadb) (7.7.0)\n",
      "Requirement already satisfied: importlib-resources in /Users/chau_le/.pyenv/versions/3.11.0/envs/rag-venv/lib/python3.11/site-packages (from chromadb) (6.4.5)\n",
      "Requirement already satisfied: grpcio>=1.58.0 in /Users/chau_le/.pyenv/versions/3.11.0/envs/rag-venv/lib/python3.11/site-packages (from chromadb) (1.68.1)\n",
      "Requirement already satisfied: bcrypt>=4.0.1 in /Users/chau_le/.pyenv/versions/3.11.0/envs/rag-venv/lib/python3.11/site-packages (from chromadb) (4.2.1)\n",
      "Requirement already satisfied: typer>=0.9.0 in /Users/chau_le/.pyenv/versions/3.11.0/envs/rag-venv/lib/python3.11/site-packages (from chromadb) (0.15.1)\n",
      "Requirement already satisfied: kubernetes>=28.1.0 in /Users/chau_le/.pyenv/versions/3.11.0/envs/rag-venv/lib/python3.11/site-packages (from chromadb) (31.0.0)\n",
      "Requirement already satisfied: mmh3>=4.0.1 in /Users/chau_le/.pyenv/versions/3.11.0/envs/rag-venv/lib/python3.11/site-packages (from chromadb) (5.0.1)\n",
      "Requirement already satisfied: orjson>=3.9.12 in /Users/chau_le/.pyenv/versions/3.11.0/envs/rag-venv/lib/python3.11/site-packages (from chromadb) (3.10.12)\n",
      "Requirement already satisfied: httpx>=0.27.0 in /Users/chau_le/.pyenv/versions/3.11.0/envs/rag-venv/lib/python3.11/site-packages (from chromadb) (0.28.1)\n",
      "Requirement already satisfied: rich>=10.11.0 in /Users/chau_le/.pyenv/versions/3.11.0/envs/rag-venv/lib/python3.11/site-packages (from chromadb) (13.9.4)\n",
      "Requirement already satisfied: langchain-text-splitters<0.4.0,>=0.3.3 in /Users/chau_le/.pyenv/versions/3.11.0/envs/rag-venv/lib/python3.11/site-packages (from langchain) (0.3.3)\n",
      "Requirement already satisfied: beautifulsoup4 in /Users/chau_le/.pyenv/versions/3.11.0/envs/rag-venv/lib/python3.11/site-packages (from bs4) (4.12.3)\n",
      "Requirement already satisfied: aiohappyeyeballs>=2.3.0 in /Users/chau_le/.pyenv/versions/3.11.0/envs/rag-venv/lib/python3.11/site-packages (from aiohttp<4.0.0,>=3.8.3->langchain_community) (2.4.4)\n",
      "Requirement already satisfied: aiosignal>=1.1.2 in /Users/chau_le/.pyenv/versions/3.11.0/envs/rag-venv/lib/python3.11/site-packages (from aiohttp<4.0.0,>=3.8.3->langchain_community) (1.3.2)\n",
      "Requirement already satisfied: attrs>=17.3.0 in /Users/chau_le/.pyenv/versions/3.11.0/envs/rag-venv/lib/python3.11/site-packages (from aiohttp<4.0.0,>=3.8.3->langchain_community) (24.3.0)\n",
      "Requirement already satisfied: frozenlist>=1.1.1 in /Users/chau_le/.pyenv/versions/3.11.0/envs/rag-venv/lib/python3.11/site-packages (from aiohttp<4.0.0,>=3.8.3->langchain_community) (1.5.0)\n",
      "Requirement already satisfied: multidict<7.0,>=4.5 in /Users/chau_le/.pyenv/versions/3.11.0/envs/rag-venv/lib/python3.11/site-packages (from aiohttp<4.0.0,>=3.8.3->langchain_community) (6.1.0)\n",
      "Requirement already satisfied: propcache>=0.2.0 in /Users/chau_le/.pyenv/versions/3.11.0/envs/rag-venv/lib/python3.11/site-packages (from aiohttp<4.0.0,>=3.8.3->langchain_community) (0.2.1)\n",
      "Requirement already satisfied: yarl<2.0,>=1.17.0 in /Users/chau_le/.pyenv/versions/3.11.0/envs/rag-venv/lib/python3.11/site-packages (from aiohttp<4.0.0,>=3.8.3->langchain_community) (1.18.3)\n",
      "Requirement already satisfied: pyproject_hooks in /Users/chau_le/.pyenv/versions/3.11.0/envs/rag-venv/lib/python3.11/site-packages (from build>=1.0.3->chromadb) (1.2.0)\n",
      "Requirement already satisfied: marshmallow<4.0.0,>=3.18.0 in /Users/chau_le/.pyenv/versions/3.11.0/envs/rag-venv/lib/python3.11/site-packages (from dataclasses-json<0.7,>=0.5.7->langchain_community) (3.23.1)\n",
      "Requirement already satisfied: typing-inspect<1,>=0.4.0 in /Users/chau_le/.pyenv/versions/3.11.0/envs/rag-venv/lib/python3.11/site-packages (from dataclasses-json<0.7,>=0.5.7->langchain_community) (0.9.0)\n",
      "Requirement already satisfied: starlette<0.42.0,>=0.40.0 in /Users/chau_le/.pyenv/versions/3.11.0/envs/rag-venv/lib/python3.11/site-packages (from fastapi>=0.95.2->chromadb) (0.41.3)\n",
      "Requirement already satisfied: anyio in /Users/chau_le/.pyenv/versions/3.11.0/envs/rag-venv/lib/python3.11/site-packages (from httpx>=0.27.0->chromadb) (4.7.0)\n",
      "Requirement already satisfied: certifi in /Users/chau_le/.pyenv/versions/3.11.0/envs/rag-venv/lib/python3.11/site-packages (from httpx>=0.27.0->chromadb) (2024.12.14)\n",
      "Requirement already satisfied: httpcore==1.* in /Users/chau_le/.pyenv/versions/3.11.0/envs/rag-venv/lib/python3.11/site-packages (from httpx>=0.27.0->chromadb) (1.0.7)\n",
      "Requirement already satisfied: idna in /Users/chau_le/.pyenv/versions/3.11.0/envs/rag-venv/lib/python3.11/site-packages (from httpx>=0.27.0->chromadb) (3.10)\n",
      "Requirement already satisfied: h11<0.15,>=0.13 in /Users/chau_le/.pyenv/versions/3.11.0/envs/rag-venv/lib/python3.11/site-packages (from httpcore==1.*->httpx>=0.27.0->chromadb) (0.14.0)\n",
      "Requirement already satisfied: six>=1.9.0 in /Users/chau_le/.pyenv/versions/3.11.0/envs/rag-venv/lib/python3.11/site-packages (from kubernetes>=28.1.0->chromadb) (1.17.0)\n",
      "Requirement already satisfied: python-dateutil>=2.5.3 in /Users/chau_le/.pyenv/versions/3.11.0/envs/rag-venv/lib/python3.11/site-packages (from kubernetes>=28.1.0->chromadb) (2.9.0.post0)\n",
      "Requirement already satisfied: google-auth>=1.0.1 in /Users/chau_le/.pyenv/versions/3.11.0/envs/rag-venv/lib/python3.11/site-packages (from kubernetes>=28.1.0->chromadb) (2.37.0)\n",
      "Requirement already satisfied: websocket-client!=0.40.0,!=0.41.*,!=0.42.*,>=0.32.0 in /Users/chau_le/.pyenv/versions/3.11.0/envs/rag-venv/lib/python3.11/site-packages (from kubernetes>=28.1.0->chromadb) (1.8.0)\n",
      "Requirement already satisfied: requests-oauthlib in /Users/chau_le/.pyenv/versions/3.11.0/envs/rag-venv/lib/python3.11/site-packages (from kubernetes>=28.1.0->chromadb) (2.0.0)\n",
      "Requirement already satisfied: oauthlib>=3.2.2 in /Users/chau_le/.pyenv/versions/3.11.0/envs/rag-venv/lib/python3.11/site-packages (from kubernetes>=28.1.0->chromadb) (3.2.2)\n",
      "Requirement already satisfied: urllib3>=1.24.2 in /Users/chau_le/.pyenv/versions/3.11.0/envs/rag-venv/lib/python3.11/site-packages (from kubernetes>=28.1.0->chromadb) (2.2.3)\n",
      "Requirement already satisfied: durationpy>=0.7 in /Users/chau_le/.pyenv/versions/3.11.0/envs/rag-venv/lib/python3.11/site-packages (from kubernetes>=28.1.0->chromadb) (0.9)\n",
      "Requirement already satisfied: jsonpatch<2.0,>=1.33 in /Users/chau_le/.pyenv/versions/3.11.0/envs/rag-venv/lib/python3.11/site-packages (from langchain-core<0.4.0,>=0.3.32->langchain_community) (1.33)\n",
      "Requirement already satisfied: requests-toolbelt<2.0.0,>=1.0.0 in /Users/chau_le/.pyenv/versions/3.11.0/envs/rag-venv/lib/python3.11/site-packages (from langsmith<0.4,>=0.1.125->langchain_community) (1.0.0)\n",
      "Requirement already satisfied: coloredlogs in /Users/chau_le/.pyenv/versions/3.11.0/envs/rag-venv/lib/python3.11/site-packages (from onnxruntime>=1.14.1->chromadb) (15.0.1)\n",
      "Requirement already satisfied: flatbuffers in /Users/chau_le/.pyenv/versions/3.11.0/envs/rag-venv/lib/python3.11/site-packages (from onnxruntime>=1.14.1->chromadb) (24.3.25)\n",
      "Requirement already satisfied: protobuf in /Users/chau_le/.pyenv/versions/3.11.0/envs/rag-venv/lib/python3.11/site-packages (from onnxruntime>=1.14.1->chromadb) (5.29.1)\n",
      "Requirement already satisfied: sympy in /Users/chau_le/.pyenv/versions/3.11.0/envs/rag-venv/lib/python3.11/site-packages (from onnxruntime>=1.14.1->chromadb) (1.13.1)\n",
      "Requirement already satisfied: distro<2,>=1.7.0 in /Users/chau_le/.pyenv/versions/3.11.0/envs/rag-venv/lib/python3.11/site-packages (from openai<2.0.0,>=1.55.3->langchain-openai) (1.9.0)\n",
      "Requirement already satisfied: jiter<1,>=0.4.0 in /Users/chau_le/.pyenv/versions/3.11.0/envs/rag-venv/lib/python3.11/site-packages (from openai<2.0.0,>=1.55.3->langchain-openai) (0.8.2)\n",
      "Requirement already satisfied: sniffio in /Users/chau_le/.pyenv/versions/3.11.0/envs/rag-venv/lib/python3.11/site-packages (from openai<2.0.0,>=1.55.3->langchain-openai) (1.3.1)\n",
      "Requirement already satisfied: deprecated>=1.2.6 in /Users/chau_le/.pyenv/versions/3.11.0/envs/rag-venv/lib/python3.11/site-packages (from opentelemetry-api>=1.2.0->chromadb) (1.2.15)\n",
      "Requirement already satisfied: importlib-metadata<=8.5.0,>=6.0 in /Users/chau_le/.pyenv/versions/3.11.0/envs/rag-venv/lib/python3.11/site-packages (from opentelemetry-api>=1.2.0->chromadb) (8.5.0)\n",
      "Requirement already satisfied: googleapis-common-protos~=1.52 in /Users/chau_le/.pyenv/versions/3.11.0/envs/rag-venv/lib/python3.11/site-packages (from opentelemetry-exporter-otlp-proto-grpc>=1.2.0->chromadb) (1.66.0)\n",
      "Requirement already satisfied: opentelemetry-exporter-otlp-proto-common==1.29.0 in /Users/chau_le/.pyenv/versions/3.11.0/envs/rag-venv/lib/python3.11/site-packages (from opentelemetry-exporter-otlp-proto-grpc>=1.2.0->chromadb) (1.29.0)\n",
      "Requirement already satisfied: opentelemetry-proto==1.29.0 in /Users/chau_le/.pyenv/versions/3.11.0/envs/rag-venv/lib/python3.11/site-packages (from opentelemetry-exporter-otlp-proto-grpc>=1.2.0->chromadb) (1.29.0)\n",
      "Requirement already satisfied: opentelemetry-instrumentation-asgi==0.50b0 in /Users/chau_le/.pyenv/versions/3.11.0/envs/rag-venv/lib/python3.11/site-packages (from opentelemetry-instrumentation-fastapi>=0.41b0->chromadb) (0.50b0)\n",
      "Requirement already satisfied: opentelemetry-instrumentation==0.50b0 in /Users/chau_le/.pyenv/versions/3.11.0/envs/rag-venv/lib/python3.11/site-packages (from opentelemetry-instrumentation-fastapi>=0.41b0->chromadb) (0.50b0)\n",
      "Requirement already satisfied: opentelemetry-semantic-conventions==0.50b0 in /Users/chau_le/.pyenv/versions/3.11.0/envs/rag-venv/lib/python3.11/site-packages (from opentelemetry-instrumentation-fastapi>=0.41b0->chromadb) (0.50b0)\n",
      "Requirement already satisfied: opentelemetry-util-http==0.50b0 in /Users/chau_le/.pyenv/versions/3.11.0/envs/rag-venv/lib/python3.11/site-packages (from opentelemetry-instrumentation-fastapi>=0.41b0->chromadb) (0.50b0)\n",
      "Requirement already satisfied: wrapt<2.0.0,>=1.0.0 in /Users/chau_le/.pyenv/versions/3.11.0/envs/rag-venv/lib/python3.11/site-packages (from opentelemetry-instrumentation==0.50b0->opentelemetry-instrumentation-fastapi>=0.41b0->chromadb) (1.17.0)\n",
      "Requirement already satisfied: asgiref~=3.0 in /Users/chau_le/.pyenv/versions/3.11.0/envs/rag-venv/lib/python3.11/site-packages (from opentelemetry-instrumentation-asgi==0.50b0->opentelemetry-instrumentation-fastapi>=0.41b0->chromadb) (3.8.1)\n",
      "Requirement already satisfied: monotonic>=1.5 in /Users/chau_le/.pyenv/versions/3.11.0/envs/rag-venv/lib/python3.11/site-packages (from posthog>=2.4.0->chromadb) (1.6)\n",
      "Requirement already satisfied: backoff>=1.10.0 in /Users/chau_le/.pyenv/versions/3.11.0/envs/rag-venv/lib/python3.11/site-packages (from posthog>=2.4.0->chromadb) (2.2.1)\n",
      "Requirement already satisfied: annotated-types>=0.6.0 in /Users/chau_le/.pyenv/versions/3.11.0/envs/rag-venv/lib/python3.11/site-packages (from pydantic>=1.9->chromadb) (0.7.0)\n",
      "Requirement already satisfied: pydantic-core==2.27.1 in /Users/chau_le/.pyenv/versions/3.11.0/envs/rag-venv/lib/python3.11/site-packages (from pydantic>=1.9->chromadb) (2.27.1)\n",
      "Requirement already satisfied: python-dotenv>=0.21.0 in /Users/chau_le/.pyenv/versions/3.11.0/envs/rag-venv/lib/python3.11/site-packages (from pydantic-settings<3.0.0,>=2.4.0->langchain_community) (1.0.1)\n",
      "Requirement already satisfied: charset-normalizer<4,>=2 in /Users/chau_le/.pyenv/versions/3.11.0/envs/rag-venv/lib/python3.11/site-packages (from requests<3,>=2->langchain_community) (3.4.0)\n",
      "Requirement already satisfied: markdown-it-py>=2.2.0 in /Users/chau_le/.pyenv/versions/3.11.0/envs/rag-venv/lib/python3.11/site-packages (from rich>=10.11.0->chromadb) (3.0.0)\n",
      "Requirement already satisfied: pygments<3.0.0,>=2.13.0 in /Users/chau_le/.pyenv/versions/3.11.0/envs/rag-venv/lib/python3.11/site-packages (from rich>=10.11.0->chromadb) (2.18.0)\n",
      "Requirement already satisfied: huggingface-hub<1.0,>=0.16.4 in /Users/chau_le/.pyenv/versions/3.11.0/envs/rag-venv/lib/python3.11/site-packages (from tokenizers<=0.20.3,>=0.13.2->chromadb) (0.27.0)\n",
      "Requirement already satisfied: click>=8.0.0 in /Users/chau_le/.pyenv/versions/3.11.0/envs/rag-venv/lib/python3.11/site-packages (from typer>=0.9.0->chromadb) (8.1.7)\n",
      "Requirement already satisfied: shellingham>=1.3.0 in /Users/chau_le/.pyenv/versions/3.11.0/envs/rag-venv/lib/python3.11/site-packages (from typer>=0.9.0->chromadb) (1.5.4)\n",
      "Requirement already satisfied: httptools>=0.6.3 in /Users/chau_le/.pyenv/versions/3.11.0/envs/rag-venv/lib/python3.11/site-packages (from uvicorn[standard]>=0.18.3->chromadb) (0.6.4)\n",
      "Requirement already satisfied: uvloop!=0.15.0,!=0.15.1,>=0.14.0 in /Users/chau_le/.pyenv/versions/3.11.0/envs/rag-venv/lib/python3.11/site-packages (from uvicorn[standard]>=0.18.3->chromadb) (0.21.0)\n",
      "Requirement already satisfied: watchfiles>=0.13 in /Users/chau_le/.pyenv/versions/3.11.0/envs/rag-venv/lib/python3.11/site-packages (from uvicorn[standard]>=0.18.3->chromadb) (1.0.3)\n",
      "Requirement already satisfied: websockets>=10.4 in /Users/chau_le/.pyenv/versions/3.11.0/envs/rag-venv/lib/python3.11/site-packages (from uvicorn[standard]>=0.18.3->chromadb) (14.1)\n",
      "Requirement already satisfied: soupsieve>1.2 in /Users/chau_le/.pyenv/versions/3.11.0/envs/rag-venv/lib/python3.11/site-packages (from beautifulsoup4->bs4) (2.6)\n",
      "Requirement already satisfied: cachetools<6.0,>=2.0.0 in /Users/chau_le/.pyenv/versions/3.11.0/envs/rag-venv/lib/python3.11/site-packages (from google-auth>=1.0.1->kubernetes>=28.1.0->chromadb) (5.5.0)\n",
      "Requirement already satisfied: pyasn1-modules>=0.2.1 in /Users/chau_le/.pyenv/versions/3.11.0/envs/rag-venv/lib/python3.11/site-packages (from google-auth>=1.0.1->kubernetes>=28.1.0->chromadb) (0.4.1)\n",
      "Requirement already satisfied: rsa<5,>=3.1.4 in /Users/chau_le/.pyenv/versions/3.11.0/envs/rag-venv/lib/python3.11/site-packages (from google-auth>=1.0.1->kubernetes>=28.1.0->chromadb) (4.9)\n",
      "Requirement already satisfied: filelock in /Users/chau_le/.pyenv/versions/3.11.0/envs/rag-venv/lib/python3.11/site-packages (from huggingface-hub<1.0,>=0.16.4->tokenizers<=0.20.3,>=0.13.2->chromadb) (3.16.1)\n",
      "Requirement already satisfied: fsspec>=2023.5.0 in /Users/chau_le/.pyenv/versions/3.11.0/envs/rag-venv/lib/python3.11/site-packages (from huggingface-hub<1.0,>=0.16.4->tokenizers<=0.20.3,>=0.13.2->chromadb) (2024.10.0)\n",
      "Requirement already satisfied: zipp>=3.20 in /Users/chau_le/.pyenv/versions/3.11.0/envs/rag-venv/lib/python3.11/site-packages (from importlib-metadata<=8.5.0,>=6.0->opentelemetry-api>=1.2.0->chromadb) (3.21.0)\n",
      "Requirement already satisfied: jsonpointer>=1.9 in /Users/chau_le/.pyenv/versions/3.11.0/envs/rag-venv/lib/python3.11/site-packages (from jsonpatch<2.0,>=1.33->langchain-core<0.4.0,>=0.3.32->langchain_community) (3.0.0)\n",
      "Requirement already satisfied: mdurl~=0.1 in /Users/chau_le/.pyenv/versions/3.11.0/envs/rag-venv/lib/python3.11/site-packages (from markdown-it-py>=2.2.0->rich>=10.11.0->chromadb) (0.1.2)\n",
      "Requirement already satisfied: mypy-extensions>=0.3.0 in /Users/chau_le/.pyenv/versions/3.11.0/envs/rag-venv/lib/python3.11/site-packages (from typing-inspect<1,>=0.4.0->dataclasses-json<0.7,>=0.5.7->langchain_community) (1.0.0)\n",
      "Requirement already satisfied: humanfriendly>=9.1 in /Users/chau_le/.pyenv/versions/3.11.0/envs/rag-venv/lib/python3.11/site-packages (from coloredlogs->onnxruntime>=1.14.1->chromadb) (10.0)\n",
      "Requirement already satisfied: mpmath<1.4,>=1.1.0 in /Users/chau_le/.pyenv/versions/3.11.0/envs/rag-venv/lib/python3.11/site-packages (from sympy->onnxruntime>=1.14.1->chromadb) (1.3.0)\n",
      "Requirement already satisfied: pyasn1<0.7.0,>=0.4.6 in /Users/chau_le/.pyenv/versions/3.11.0/envs/rag-venv/lib/python3.11/site-packages (from pyasn1-modules>=0.2.1->google-auth>=1.0.1->kubernetes>=28.1.0->chromadb) (0.6.1)\n",
      "Using cached tokenizers-0.20.3-cp311-cp311-macosx_11_0_arm64.whl (2.6 MB)\n",
      "Installing collected packages: tokenizers\n",
      "  Attempting uninstall: tokenizers\n",
      "    Found existing installation: tokenizers 0.21.0\n",
      "    Uninstalling tokenizers-0.21.0:\n",
      "      Successfully uninstalled tokenizers-0.21.0\n",
      "\u001b[31mERROR: pip's dependency resolver does not currently take into account all the packages that are installed. This behaviour is the source of the following dependency conflicts.\n",
      "transformers 4.47.1 requires tokenizers<0.22,>=0.21, but you have tokenizers 0.20.3 which is incompatible.\u001b[0m\u001b[31m\n",
      "\u001b[0mSuccessfully installed tokenizers-0.20.3\n",
      "\n",
      "\u001b[1m[\u001b[0m\u001b[34;49mnotice\u001b[0m\u001b[1;39;49m]\u001b[0m\u001b[39;49m A new release of pip is available: \u001b[0m\u001b[31;49m24.3.1\u001b[0m\u001b[39;49m -> \u001b[0m\u001b[32;49m25.0\u001b[0m\n",
      "\u001b[1m[\u001b[0m\u001b[34;49mnotice\u001b[0m\u001b[1;39;49m]\u001b[0m\u001b[39;49m To update, run: \u001b[0m\u001b[32;49mpip install --upgrade pip\u001b[0m\n",
      "Requirement already satisfied: langchain-anthropic in /Users/chau_le/.pyenv/versions/3.11.0/envs/rag-venv/lib/python3.11/site-packages (0.3.0)\n",
      "Requirement already satisfied: langchain_voyageai in /Users/chau_le/.pyenv/versions/3.11.0/envs/rag-venv/lib/python3.11/site-packages (0.1.3)\n",
      "Requirement already satisfied: anthropic<1,>=0.39.0 in /Users/chau_le/.pyenv/versions/3.11.0/envs/rag-venv/lib/python3.11/site-packages (from langchain-anthropic) (0.42.0)\n",
      "Requirement already satisfied: defusedxml<0.8.0,>=0.7.1 in /Users/chau_le/.pyenv/versions/3.11.0/envs/rag-venv/lib/python3.11/site-packages (from langchain-anthropic) (0.7.1)\n",
      "Requirement already satisfied: langchain-core<0.4.0,>=0.3.17 in /Users/chau_le/.pyenv/versions/3.11.0/envs/rag-venv/lib/python3.11/site-packages (from langchain-anthropic) (0.3.33)\n",
      "Requirement already satisfied: pydantic<3.0.0,>=2.7.4 in /Users/chau_le/.pyenv/versions/3.11.0/envs/rag-venv/lib/python3.11/site-packages (from langchain-anthropic) (2.10.3)\n",
      "Requirement already satisfied: voyageai<1,>=0.2.1 in /Users/chau_le/.pyenv/versions/3.11.0/envs/rag-venv/lib/python3.11/site-packages (from langchain_voyageai) (0.3.2)\n",
      "Requirement already satisfied: anyio<5,>=3.5.0 in /Users/chau_le/.pyenv/versions/3.11.0/envs/rag-venv/lib/python3.11/site-packages (from anthropic<1,>=0.39.0->langchain-anthropic) (4.7.0)\n",
      "Requirement already satisfied: distro<2,>=1.7.0 in /Users/chau_le/.pyenv/versions/3.11.0/envs/rag-venv/lib/python3.11/site-packages (from anthropic<1,>=0.39.0->langchain-anthropic) (1.9.0)\n",
      "Requirement already satisfied: httpx<1,>=0.23.0 in /Users/chau_le/.pyenv/versions/3.11.0/envs/rag-venv/lib/python3.11/site-packages (from anthropic<1,>=0.39.0->langchain-anthropic) (0.28.1)\n",
      "Requirement already satisfied: jiter<1,>=0.4.0 in /Users/chau_le/.pyenv/versions/3.11.0/envs/rag-venv/lib/python3.11/site-packages (from anthropic<1,>=0.39.0->langchain-anthropic) (0.8.2)\n",
      "Requirement already satisfied: sniffio in /Users/chau_le/.pyenv/versions/3.11.0/envs/rag-venv/lib/python3.11/site-packages (from anthropic<1,>=0.39.0->langchain-anthropic) (1.3.1)\n",
      "Requirement already satisfied: typing-extensions<5,>=4.10 in /Users/chau_le/.pyenv/versions/3.11.0/envs/rag-venv/lib/python3.11/site-packages (from anthropic<1,>=0.39.0->langchain-anthropic) (4.12.2)\n",
      "Requirement already satisfied: PyYAML>=5.3 in /Users/chau_le/.pyenv/versions/3.11.0/envs/rag-venv/lib/python3.11/site-packages (from langchain-core<0.4.0,>=0.3.17->langchain-anthropic) (6.0.2)\n",
      "Requirement already satisfied: jsonpatch<2.0,>=1.33 in /Users/chau_le/.pyenv/versions/3.11.0/envs/rag-venv/lib/python3.11/site-packages (from langchain-core<0.4.0,>=0.3.17->langchain-anthropic) (1.33)\n",
      "Requirement already satisfied: langsmith<0.4,>=0.1.125 in /Users/chau_le/.pyenv/versions/3.11.0/envs/rag-venv/lib/python3.11/site-packages (from langchain-core<0.4.0,>=0.3.17->langchain-anthropic) (0.2.3)\n",
      "Requirement already satisfied: packaging<25,>=23.2 in /Users/chau_le/.pyenv/versions/3.11.0/envs/rag-venv/lib/python3.11/site-packages (from langchain-core<0.4.0,>=0.3.17->langchain-anthropic) (24.2)\n",
      "Requirement already satisfied: tenacity!=8.4.0,<10.0.0,>=8.1.0 in /Users/chau_le/.pyenv/versions/3.11.0/envs/rag-venv/lib/python3.11/site-packages (from langchain-core<0.4.0,>=0.3.17->langchain-anthropic) (9.0.0)\n",
      "Requirement already satisfied: annotated-types>=0.6.0 in /Users/chau_le/.pyenv/versions/3.11.0/envs/rag-venv/lib/python3.11/site-packages (from pydantic<3.0.0,>=2.7.4->langchain-anthropic) (0.7.0)\n",
      "Requirement already satisfied: pydantic-core==2.27.1 in /Users/chau_le/.pyenv/versions/3.11.0/envs/rag-venv/lib/python3.11/site-packages (from pydantic<3.0.0,>=2.7.4->langchain-anthropic) (2.27.1)\n",
      "Requirement already satisfied: aiohttp in /Users/chau_le/.pyenv/versions/3.11.0/envs/rag-venv/lib/python3.11/site-packages (from voyageai<1,>=0.2.1->langchain_voyageai) (3.11.10)\n",
      "Requirement already satisfied: aiolimiter in /Users/chau_le/.pyenv/versions/3.11.0/envs/rag-venv/lib/python3.11/site-packages (from voyageai<1,>=0.2.1->langchain_voyageai) (1.2.1)\n",
      "Requirement already satisfied: numpy in /Users/chau_le/.pyenv/versions/3.11.0/envs/rag-venv/lib/python3.11/site-packages (from voyageai<1,>=0.2.1->langchain_voyageai) (1.26.4)\n",
      "Requirement already satisfied: pillow in /Users/chau_le/.pyenv/versions/3.11.0/envs/rag-venv/lib/python3.11/site-packages (from voyageai<1,>=0.2.1->langchain_voyageai) (11.0.0)\n",
      "Requirement already satisfied: requests in /Users/chau_le/.pyenv/versions/3.11.0/envs/rag-venv/lib/python3.11/site-packages (from voyageai<1,>=0.2.1->langchain_voyageai) (2.32.3)\n",
      "Requirement already satisfied: tokenizers>=0.14.0 in /Users/chau_le/.pyenv/versions/3.11.0/envs/rag-venv/lib/python3.11/site-packages (from voyageai<1,>=0.2.1->langchain_voyageai) (0.20.3)\n",
      "Requirement already satisfied: idna>=2.8 in /Users/chau_le/.pyenv/versions/3.11.0/envs/rag-venv/lib/python3.11/site-packages (from anyio<5,>=3.5.0->anthropic<1,>=0.39.0->langchain-anthropic) (3.10)\n",
      "Requirement already satisfied: certifi in /Users/chau_le/.pyenv/versions/3.11.0/envs/rag-venv/lib/python3.11/site-packages (from httpx<1,>=0.23.0->anthropic<1,>=0.39.0->langchain-anthropic) (2024.12.14)\n",
      "Requirement already satisfied: httpcore==1.* in /Users/chau_le/.pyenv/versions/3.11.0/envs/rag-venv/lib/python3.11/site-packages (from httpx<1,>=0.23.0->anthropic<1,>=0.39.0->langchain-anthropic) (1.0.7)\n",
      "Requirement already satisfied: h11<0.15,>=0.13 in /Users/chau_le/.pyenv/versions/3.11.0/envs/rag-venv/lib/python3.11/site-packages (from httpcore==1.*->httpx<1,>=0.23.0->anthropic<1,>=0.39.0->langchain-anthropic) (0.14.0)\n",
      "Requirement already satisfied: jsonpointer>=1.9 in /Users/chau_le/.pyenv/versions/3.11.0/envs/rag-venv/lib/python3.11/site-packages (from jsonpatch<2.0,>=1.33->langchain-core<0.4.0,>=0.3.17->langchain-anthropic) (3.0.0)\n",
      "Requirement already satisfied: orjson<4.0.0,>=3.9.14 in /Users/chau_le/.pyenv/versions/3.11.0/envs/rag-venv/lib/python3.11/site-packages (from langsmith<0.4,>=0.1.125->langchain-core<0.4.0,>=0.3.17->langchain-anthropic) (3.10.12)\n",
      "Requirement already satisfied: requests-toolbelt<2.0.0,>=1.0.0 in /Users/chau_le/.pyenv/versions/3.11.0/envs/rag-venv/lib/python3.11/site-packages (from langsmith<0.4,>=0.1.125->langchain-core<0.4.0,>=0.3.17->langchain-anthropic) (1.0.0)\n",
      "Requirement already satisfied: charset-normalizer<4,>=2 in /Users/chau_le/.pyenv/versions/3.11.0/envs/rag-venv/lib/python3.11/site-packages (from requests->voyageai<1,>=0.2.1->langchain_voyageai) (3.4.0)\n",
      "Requirement already satisfied: urllib3<3,>=1.21.1 in /Users/chau_le/.pyenv/versions/3.11.0/envs/rag-venv/lib/python3.11/site-packages (from requests->voyageai<1,>=0.2.1->langchain_voyageai) (2.2.3)\n",
      "Requirement already satisfied: huggingface-hub<1.0,>=0.16.4 in /Users/chau_le/.pyenv/versions/3.11.0/envs/rag-venv/lib/python3.11/site-packages (from tokenizers>=0.14.0->voyageai<1,>=0.2.1->langchain_voyageai) (0.27.0)\n",
      "Requirement already satisfied: aiohappyeyeballs>=2.3.0 in /Users/chau_le/.pyenv/versions/3.11.0/envs/rag-venv/lib/python3.11/site-packages (from aiohttp->voyageai<1,>=0.2.1->langchain_voyageai) (2.4.4)\n",
      "Requirement already satisfied: aiosignal>=1.1.2 in /Users/chau_le/.pyenv/versions/3.11.0/envs/rag-venv/lib/python3.11/site-packages (from aiohttp->voyageai<1,>=0.2.1->langchain_voyageai) (1.3.2)\n",
      "Requirement already satisfied: attrs>=17.3.0 in /Users/chau_le/.pyenv/versions/3.11.0/envs/rag-venv/lib/python3.11/site-packages (from aiohttp->voyageai<1,>=0.2.1->langchain_voyageai) (24.3.0)\n",
      "Requirement already satisfied: frozenlist>=1.1.1 in /Users/chau_le/.pyenv/versions/3.11.0/envs/rag-venv/lib/python3.11/site-packages (from aiohttp->voyageai<1,>=0.2.1->langchain_voyageai) (1.5.0)\n",
      "Requirement already satisfied: multidict<7.0,>=4.5 in /Users/chau_le/.pyenv/versions/3.11.0/envs/rag-venv/lib/python3.11/site-packages (from aiohttp->voyageai<1,>=0.2.1->langchain_voyageai) (6.1.0)\n",
      "Requirement already satisfied: propcache>=0.2.0 in /Users/chau_le/.pyenv/versions/3.11.0/envs/rag-venv/lib/python3.11/site-packages (from aiohttp->voyageai<1,>=0.2.1->langchain_voyageai) (0.2.1)\n",
      "Requirement already satisfied: yarl<2.0,>=1.17.0 in /Users/chau_le/.pyenv/versions/3.11.0/envs/rag-venv/lib/python3.11/site-packages (from aiohttp->voyageai<1,>=0.2.1->langchain_voyageai) (1.18.3)\n",
      "Requirement already satisfied: filelock in /Users/chau_le/.pyenv/versions/3.11.0/envs/rag-venv/lib/python3.11/site-packages (from huggingface-hub<1.0,>=0.16.4->tokenizers>=0.14.0->voyageai<1,>=0.2.1->langchain_voyageai) (3.16.1)\n",
      "Requirement already satisfied: fsspec>=2023.5.0 in /Users/chau_le/.pyenv/versions/3.11.0/envs/rag-venv/lib/python3.11/site-packages (from huggingface-hub<1.0,>=0.16.4->tokenizers>=0.14.0->voyageai<1,>=0.2.1->langchain_voyageai) (2024.10.0)\n",
      "Requirement already satisfied: tqdm>=4.42.1 in /Users/chau_le/.pyenv/versions/3.11.0/envs/rag-venv/lib/python3.11/site-packages (from huggingface-hub<1.0,>=0.16.4->tokenizers>=0.14.0->voyageai<1,>=0.2.1->langchain_voyageai) (4.67.1)\n",
      "\n",
      "\u001b[1m[\u001b[0m\u001b[34;49mnotice\u001b[0m\u001b[1;39;49m]\u001b[0m\u001b[39;49m A new release of pip is available: \u001b[0m\u001b[31;49m24.3.1\u001b[0m\u001b[39;49m -> \u001b[0m\u001b[32;49m25.0\u001b[0m\n",
      "\u001b[1m[\u001b[0m\u001b[34;49mnotice\u001b[0m\u001b[1;39;49m]\u001b[0m\u001b[39;49m To update, run: \u001b[0m\u001b[32;49mpip install --upgrade pip\u001b[0m\n",
      "Requirement already satisfied: langchain-google-genai in /Users/chau_le/.pyenv/versions/3.11.0/envs/rag-venv/lib/python3.11/site-packages (2.0.9)\n",
      "Requirement already satisfied: filetype<2.0.0,>=1.2.0 in /Users/chau_le/.pyenv/versions/3.11.0/envs/rag-venv/lib/python3.11/site-packages (from langchain-google-genai) (1.2.0)\n",
      "Requirement already satisfied: google-generativeai<0.9.0,>=0.8.0 in /Users/chau_le/.pyenv/versions/3.11.0/envs/rag-venv/lib/python3.11/site-packages (from langchain-google-genai) (0.8.3)\n",
      "Requirement already satisfied: langchain-core<0.4.0,>=0.3.27 in /Users/chau_le/.pyenv/versions/3.11.0/envs/rag-venv/lib/python3.11/site-packages (from langchain-google-genai) (0.3.33)\n",
      "Requirement already satisfied: pydantic<3,>=2 in /Users/chau_le/.pyenv/versions/3.11.0/envs/rag-venv/lib/python3.11/site-packages (from langchain-google-genai) (2.10.3)\n",
      "Requirement already satisfied: google-ai-generativelanguage==0.6.10 in /Users/chau_le/.pyenv/versions/3.11.0/envs/rag-venv/lib/python3.11/site-packages (from google-generativeai<0.9.0,>=0.8.0->langchain-google-genai) (0.6.10)\n",
      "Requirement already satisfied: google-api-core in /Users/chau_le/.pyenv/versions/3.11.0/envs/rag-venv/lib/python3.11/site-packages (from google-generativeai<0.9.0,>=0.8.0->langchain-google-genai) (2.24.0)\n",
      "Requirement already satisfied: google-api-python-client in /Users/chau_le/.pyenv/versions/3.11.0/envs/rag-venv/lib/python3.11/site-packages (from google-generativeai<0.9.0,>=0.8.0->langchain-google-genai) (2.155.0)\n",
      "Requirement already satisfied: google-auth>=2.15.0 in /Users/chau_le/.pyenv/versions/3.11.0/envs/rag-venv/lib/python3.11/site-packages (from google-generativeai<0.9.0,>=0.8.0->langchain-google-genai) (2.37.0)\n",
      "Requirement already satisfied: protobuf in /Users/chau_le/.pyenv/versions/3.11.0/envs/rag-venv/lib/python3.11/site-packages (from google-generativeai<0.9.0,>=0.8.0->langchain-google-genai) (5.29.1)\n",
      "Requirement already satisfied: tqdm in /Users/chau_le/.pyenv/versions/3.11.0/envs/rag-venv/lib/python3.11/site-packages (from google-generativeai<0.9.0,>=0.8.0->langchain-google-genai) (4.67.1)\n",
      "Requirement already satisfied: typing-extensions in /Users/chau_le/.pyenv/versions/3.11.0/envs/rag-venv/lib/python3.11/site-packages (from google-generativeai<0.9.0,>=0.8.0->langchain-google-genai) (4.12.2)\n",
      "Requirement already satisfied: proto-plus<2.0.0dev,>=1.22.3 in /Users/chau_le/.pyenv/versions/3.11.0/envs/rag-venv/lib/python3.11/site-packages (from google-ai-generativelanguage==0.6.10->google-generativeai<0.9.0,>=0.8.0->langchain-google-genai) (1.25.0)\n",
      "Requirement already satisfied: PyYAML>=5.3 in /Users/chau_le/.pyenv/versions/3.11.0/envs/rag-venv/lib/python3.11/site-packages (from langchain-core<0.4.0,>=0.3.27->langchain-google-genai) (6.0.2)\n",
      "Requirement already satisfied: jsonpatch<2.0,>=1.33 in /Users/chau_le/.pyenv/versions/3.11.0/envs/rag-venv/lib/python3.11/site-packages (from langchain-core<0.4.0,>=0.3.27->langchain-google-genai) (1.33)\n",
      "Requirement already satisfied: langsmith<0.4,>=0.1.125 in /Users/chau_le/.pyenv/versions/3.11.0/envs/rag-venv/lib/python3.11/site-packages (from langchain-core<0.4.0,>=0.3.27->langchain-google-genai) (0.2.3)\n",
      "Requirement already satisfied: packaging<25,>=23.2 in /Users/chau_le/.pyenv/versions/3.11.0/envs/rag-venv/lib/python3.11/site-packages (from langchain-core<0.4.0,>=0.3.27->langchain-google-genai) (24.2)\n",
      "Requirement already satisfied: tenacity!=8.4.0,<10.0.0,>=8.1.0 in /Users/chau_le/.pyenv/versions/3.11.0/envs/rag-venv/lib/python3.11/site-packages (from langchain-core<0.4.0,>=0.3.27->langchain-google-genai) (9.0.0)\n",
      "Requirement already satisfied: annotated-types>=0.6.0 in /Users/chau_le/.pyenv/versions/3.11.0/envs/rag-venv/lib/python3.11/site-packages (from pydantic<3,>=2->langchain-google-genai) (0.7.0)\n",
      "Requirement already satisfied: pydantic-core==2.27.1 in /Users/chau_le/.pyenv/versions/3.11.0/envs/rag-venv/lib/python3.11/site-packages (from pydantic<3,>=2->langchain-google-genai) (2.27.1)\n",
      "Requirement already satisfied: googleapis-common-protos<2.0.dev0,>=1.56.2 in /Users/chau_le/.pyenv/versions/3.11.0/envs/rag-venv/lib/python3.11/site-packages (from google-api-core->google-generativeai<0.9.0,>=0.8.0->langchain-google-genai) (1.66.0)\n",
      "Requirement already satisfied: requests<3.0.0.dev0,>=2.18.0 in /Users/chau_le/.pyenv/versions/3.11.0/envs/rag-venv/lib/python3.11/site-packages (from google-api-core->google-generativeai<0.9.0,>=0.8.0->langchain-google-genai) (2.32.3)\n",
      "Requirement already satisfied: cachetools<6.0,>=2.0.0 in /Users/chau_le/.pyenv/versions/3.11.0/envs/rag-venv/lib/python3.11/site-packages (from google-auth>=2.15.0->google-generativeai<0.9.0,>=0.8.0->langchain-google-genai) (5.5.0)\n",
      "Requirement already satisfied: pyasn1-modules>=0.2.1 in /Users/chau_le/.pyenv/versions/3.11.0/envs/rag-venv/lib/python3.11/site-packages (from google-auth>=2.15.0->google-generativeai<0.9.0,>=0.8.0->langchain-google-genai) (0.4.1)\n",
      "Requirement already satisfied: rsa<5,>=3.1.4 in /Users/chau_le/.pyenv/versions/3.11.0/envs/rag-venv/lib/python3.11/site-packages (from google-auth>=2.15.0->google-generativeai<0.9.0,>=0.8.0->langchain-google-genai) (4.9)\n",
      "Requirement already satisfied: jsonpointer>=1.9 in /Users/chau_le/.pyenv/versions/3.11.0/envs/rag-venv/lib/python3.11/site-packages (from jsonpatch<2.0,>=1.33->langchain-core<0.4.0,>=0.3.27->langchain-google-genai) (3.0.0)\n",
      "Requirement already satisfied: httpx<1,>=0.23.0 in /Users/chau_le/.pyenv/versions/3.11.0/envs/rag-venv/lib/python3.11/site-packages (from langsmith<0.4,>=0.1.125->langchain-core<0.4.0,>=0.3.27->langchain-google-genai) (0.28.1)\n",
      "Requirement already satisfied: orjson<4.0.0,>=3.9.14 in /Users/chau_le/.pyenv/versions/3.11.0/envs/rag-venv/lib/python3.11/site-packages (from langsmith<0.4,>=0.1.125->langchain-core<0.4.0,>=0.3.27->langchain-google-genai) (3.10.12)\n",
      "Requirement already satisfied: requests-toolbelt<2.0.0,>=1.0.0 in /Users/chau_le/.pyenv/versions/3.11.0/envs/rag-venv/lib/python3.11/site-packages (from langsmith<0.4,>=0.1.125->langchain-core<0.4.0,>=0.3.27->langchain-google-genai) (1.0.0)\n",
      "Requirement already satisfied: httplib2<1.dev0,>=0.19.0 in /Users/chau_le/.pyenv/versions/3.11.0/envs/rag-venv/lib/python3.11/site-packages (from google-api-python-client->google-generativeai<0.9.0,>=0.8.0->langchain-google-genai) (0.22.0)\n",
      "Requirement already satisfied: google-auth-httplib2<1.0.0,>=0.2.0 in /Users/chau_le/.pyenv/versions/3.11.0/envs/rag-venv/lib/python3.11/site-packages (from google-api-python-client->google-generativeai<0.9.0,>=0.8.0->langchain-google-genai) (0.2.0)\n",
      "Requirement already satisfied: uritemplate<5,>=3.0.1 in /Users/chau_le/.pyenv/versions/3.11.0/envs/rag-venv/lib/python3.11/site-packages (from google-api-python-client->google-generativeai<0.9.0,>=0.8.0->langchain-google-genai) (4.1.1)\n",
      "Requirement already satisfied: grpcio<2.0dev,>=1.33.2 in /Users/chau_le/.pyenv/versions/3.11.0/envs/rag-venv/lib/python3.11/site-packages (from google-api-core[grpc]!=2.0.*,!=2.1.*,!=2.10.*,!=2.2.*,!=2.3.*,!=2.4.*,!=2.5.*,!=2.6.*,!=2.7.*,!=2.8.*,!=2.9.*,<3.0.0dev,>=1.34.1->google-ai-generativelanguage==0.6.10->google-generativeai<0.9.0,>=0.8.0->langchain-google-genai) (1.68.1)\n",
      "Requirement already satisfied: grpcio-status<2.0.dev0,>=1.33.2 in /Users/chau_le/.pyenv/versions/3.11.0/envs/rag-venv/lib/python3.11/site-packages (from google-api-core[grpc]!=2.0.*,!=2.1.*,!=2.10.*,!=2.2.*,!=2.3.*,!=2.4.*,!=2.5.*,!=2.6.*,!=2.7.*,!=2.8.*,!=2.9.*,<3.0.0dev,>=1.34.1->google-ai-generativelanguage==0.6.10->google-generativeai<0.9.0,>=0.8.0->langchain-google-genai) (1.68.1)\n",
      "Requirement already satisfied: pyparsing!=3.0.0,!=3.0.1,!=3.0.2,!=3.0.3,<4,>=2.4.2 in /Users/chau_le/.pyenv/versions/3.11.0/envs/rag-venv/lib/python3.11/site-packages (from httplib2<1.dev0,>=0.19.0->google-api-python-client->google-generativeai<0.9.0,>=0.8.0->langchain-google-genai) (3.2.0)\n",
      "Requirement already satisfied: anyio in /Users/chau_le/.pyenv/versions/3.11.0/envs/rag-venv/lib/python3.11/site-packages (from httpx<1,>=0.23.0->langsmith<0.4,>=0.1.125->langchain-core<0.4.0,>=0.3.27->langchain-google-genai) (4.7.0)\n",
      "Requirement already satisfied: certifi in /Users/chau_le/.pyenv/versions/3.11.0/envs/rag-venv/lib/python3.11/site-packages (from httpx<1,>=0.23.0->langsmith<0.4,>=0.1.125->langchain-core<0.4.0,>=0.3.27->langchain-google-genai) (2024.12.14)\n",
      "Requirement already satisfied: httpcore==1.* in /Users/chau_le/.pyenv/versions/3.11.0/envs/rag-venv/lib/python3.11/site-packages (from httpx<1,>=0.23.0->langsmith<0.4,>=0.1.125->langchain-core<0.4.0,>=0.3.27->langchain-google-genai) (1.0.7)\n",
      "Requirement already satisfied: idna in /Users/chau_le/.pyenv/versions/3.11.0/envs/rag-venv/lib/python3.11/site-packages (from httpx<1,>=0.23.0->langsmith<0.4,>=0.1.125->langchain-core<0.4.0,>=0.3.27->langchain-google-genai) (3.10)\n",
      "Requirement already satisfied: h11<0.15,>=0.13 in /Users/chau_le/.pyenv/versions/3.11.0/envs/rag-venv/lib/python3.11/site-packages (from httpcore==1.*->httpx<1,>=0.23.0->langsmith<0.4,>=0.1.125->langchain-core<0.4.0,>=0.3.27->langchain-google-genai) (0.14.0)\n",
      "Requirement already satisfied: pyasn1<0.7.0,>=0.4.6 in /Users/chau_le/.pyenv/versions/3.11.0/envs/rag-venv/lib/python3.11/site-packages (from pyasn1-modules>=0.2.1->google-auth>=2.15.0->google-generativeai<0.9.0,>=0.8.0->langchain-google-genai) (0.6.1)\n",
      "Requirement already satisfied: charset-normalizer<4,>=2 in /Users/chau_le/.pyenv/versions/3.11.0/envs/rag-venv/lib/python3.11/site-packages (from requests<3.0.0.dev0,>=2.18.0->google-api-core->google-generativeai<0.9.0,>=0.8.0->langchain-google-genai) (3.4.0)\n",
      "Requirement already satisfied: urllib3<3,>=1.21.1 in /Users/chau_le/.pyenv/versions/3.11.0/envs/rag-venv/lib/python3.11/site-packages (from requests<3.0.0.dev0,>=2.18.0->google-api-core->google-generativeai<0.9.0,>=0.8.0->langchain-google-genai) (2.2.3)\n",
      "Requirement already satisfied: sniffio>=1.1 in /Users/chau_le/.pyenv/versions/3.11.0/envs/rag-venv/lib/python3.11/site-packages (from anyio->httpx<1,>=0.23.0->langsmith<0.4,>=0.1.125->langchain-core<0.4.0,>=0.3.27->langchain-google-genai) (1.3.1)\n",
      "\n",
      "\u001b[1m[\u001b[0m\u001b[34;49mnotice\u001b[0m\u001b[1;39;49m]\u001b[0m\u001b[39;49m A new release of pip is available: \u001b[0m\u001b[31;49m24.3.1\u001b[0m\u001b[39;49m -> \u001b[0m\u001b[32;49m25.0\u001b[0m\n",
      "\u001b[1m[\u001b[0m\u001b[34;49mnotice\u001b[0m\u001b[1;39;49m]\u001b[0m\u001b[39;49m To update, run: \u001b[0m\u001b[32;49mpip install --upgrade pip\u001b[0m\n",
      "Requirement already satisfied: langchain-huggingface in /Users/chau_le/.pyenv/versions/3.11.0/envs/rag-venv/lib/python3.11/site-packages (0.1.2)\n",
      "Requirement already satisfied: ipywidgets in /Users/chau_le/.pyenv/versions/3.11.0/envs/rag-venv/lib/python3.11/site-packages (8.1.5)\n",
      "Requirement already satisfied: huggingface-hub>=0.23.0 in /Users/chau_le/.pyenv/versions/3.11.0/envs/rag-venv/lib/python3.11/site-packages (from langchain-huggingface) (0.27.0)\n",
      "Requirement already satisfied: langchain-core<0.4.0,>=0.3.15 in /Users/chau_le/.pyenv/versions/3.11.0/envs/rag-venv/lib/python3.11/site-packages (from langchain-huggingface) (0.3.33)\n",
      "Requirement already satisfied: sentence-transformers>=2.6.0 in /Users/chau_le/.pyenv/versions/3.11.0/envs/rag-venv/lib/python3.11/site-packages (from langchain-huggingface) (3.3.1)\n",
      "Requirement already satisfied: tokenizers>=0.19.1 in /Users/chau_le/.pyenv/versions/3.11.0/envs/rag-venv/lib/python3.11/site-packages (from langchain-huggingface) (0.20.3)\n",
      "Requirement already satisfied: transformers>=4.39.0 in /Users/chau_le/.pyenv/versions/3.11.0/envs/rag-venv/lib/python3.11/site-packages (from langchain-huggingface) (4.47.1)\n",
      "Requirement already satisfied: comm>=0.1.3 in /Users/chau_le/.pyenv/versions/3.11.0/envs/rag-venv/lib/python3.11/site-packages (from ipywidgets) (0.2.2)\n",
      "Requirement already satisfied: ipython>=6.1.0 in /Users/chau_le/.pyenv/versions/3.11.0/envs/rag-venv/lib/python3.11/site-packages (from ipywidgets) (8.30.0)\n",
      "Requirement already satisfied: traitlets>=4.3.1 in /Users/chau_le/.pyenv/versions/3.11.0/envs/rag-venv/lib/python3.11/site-packages (from ipywidgets) (5.14.3)\n",
      "Requirement already satisfied: widgetsnbextension~=4.0.12 in /Users/chau_le/.pyenv/versions/3.11.0/envs/rag-venv/lib/python3.11/site-packages (from ipywidgets) (4.0.13)\n",
      "Requirement already satisfied: jupyterlab-widgets~=3.0.12 in /Users/chau_le/.pyenv/versions/3.11.0/envs/rag-venv/lib/python3.11/site-packages (from ipywidgets) (3.0.13)\n",
      "Requirement already satisfied: filelock in /Users/chau_le/.pyenv/versions/3.11.0/envs/rag-venv/lib/python3.11/site-packages (from huggingface-hub>=0.23.0->langchain-huggingface) (3.16.1)\n",
      "Requirement already satisfied: fsspec>=2023.5.0 in /Users/chau_le/.pyenv/versions/3.11.0/envs/rag-venv/lib/python3.11/site-packages (from huggingface-hub>=0.23.0->langchain-huggingface) (2024.10.0)\n",
      "Requirement already satisfied: packaging>=20.9 in /Users/chau_le/.pyenv/versions/3.11.0/envs/rag-venv/lib/python3.11/site-packages (from huggingface-hub>=0.23.0->langchain-huggingface) (24.2)\n",
      "Requirement already satisfied: pyyaml>=5.1 in /Users/chau_le/.pyenv/versions/3.11.0/envs/rag-venv/lib/python3.11/site-packages (from huggingface-hub>=0.23.0->langchain-huggingface) (6.0.2)\n",
      "Requirement already satisfied: requests in /Users/chau_le/.pyenv/versions/3.11.0/envs/rag-venv/lib/python3.11/site-packages (from huggingface-hub>=0.23.0->langchain-huggingface) (2.32.3)\n",
      "Requirement already satisfied: tqdm>=4.42.1 in /Users/chau_le/.pyenv/versions/3.11.0/envs/rag-venv/lib/python3.11/site-packages (from huggingface-hub>=0.23.0->langchain-huggingface) (4.67.1)\n",
      "Requirement already satisfied: typing-extensions>=3.7.4.3 in /Users/chau_le/.pyenv/versions/3.11.0/envs/rag-venv/lib/python3.11/site-packages (from huggingface-hub>=0.23.0->langchain-huggingface) (4.12.2)\n",
      "Requirement already satisfied: decorator in /Users/chau_le/.pyenv/versions/3.11.0/envs/rag-venv/lib/python3.11/site-packages (from ipython>=6.1.0->ipywidgets) (5.1.1)\n",
      "Requirement already satisfied: jedi>=0.16 in /Users/chau_le/.pyenv/versions/3.11.0/envs/rag-venv/lib/python3.11/site-packages (from ipython>=6.1.0->ipywidgets) (0.19.2)\n",
      "Requirement already satisfied: matplotlib-inline in /Users/chau_le/.pyenv/versions/3.11.0/envs/rag-venv/lib/python3.11/site-packages (from ipython>=6.1.0->ipywidgets) (0.1.7)\n",
      "Requirement already satisfied: pexpect>4.3 in /Users/chau_le/.pyenv/versions/3.11.0/envs/rag-venv/lib/python3.11/site-packages (from ipython>=6.1.0->ipywidgets) (4.9.0)\n",
      "Requirement already satisfied: prompt_toolkit<3.1.0,>=3.0.41 in /Users/chau_le/.pyenv/versions/3.11.0/envs/rag-venv/lib/python3.11/site-packages (from ipython>=6.1.0->ipywidgets) (3.0.48)\n",
      "Requirement already satisfied: pygments>=2.4.0 in /Users/chau_le/.pyenv/versions/3.11.0/envs/rag-venv/lib/python3.11/site-packages (from ipython>=6.1.0->ipywidgets) (2.18.0)\n",
      "Requirement already satisfied: stack_data in /Users/chau_le/.pyenv/versions/3.11.0/envs/rag-venv/lib/python3.11/site-packages (from ipython>=6.1.0->ipywidgets) (0.6.3)\n",
      "Requirement already satisfied: jsonpatch<2.0,>=1.33 in /Users/chau_le/.pyenv/versions/3.11.0/envs/rag-venv/lib/python3.11/site-packages (from langchain-core<0.4.0,>=0.3.15->langchain-huggingface) (1.33)\n",
      "Requirement already satisfied: langsmith<0.4,>=0.1.125 in /Users/chau_le/.pyenv/versions/3.11.0/envs/rag-venv/lib/python3.11/site-packages (from langchain-core<0.4.0,>=0.3.15->langchain-huggingface) (0.2.3)\n",
      "Requirement already satisfied: pydantic<3.0.0,>=2.5.2 in /Users/chau_le/.pyenv/versions/3.11.0/envs/rag-venv/lib/python3.11/site-packages (from langchain-core<0.4.0,>=0.3.15->langchain-huggingface) (2.10.3)\n",
      "Requirement already satisfied: tenacity!=8.4.0,<10.0.0,>=8.1.0 in /Users/chau_le/.pyenv/versions/3.11.0/envs/rag-venv/lib/python3.11/site-packages (from langchain-core<0.4.0,>=0.3.15->langchain-huggingface) (9.0.0)\n",
      "Requirement already satisfied: torch>=1.11.0 in /Users/chau_le/.pyenv/versions/3.11.0/envs/rag-venv/lib/python3.11/site-packages (from sentence-transformers>=2.6.0->langchain-huggingface) (2.5.1)\n",
      "Requirement already satisfied: scikit-learn in /Users/chau_le/.pyenv/versions/3.11.0/envs/rag-venv/lib/python3.11/site-packages (from sentence-transformers>=2.6.0->langchain-huggingface) (1.6.0)\n",
      "Requirement already satisfied: scipy in /Users/chau_le/.pyenv/versions/3.11.0/envs/rag-venv/lib/python3.11/site-packages (from sentence-transformers>=2.6.0->langchain-huggingface) (1.14.1)\n",
      "Requirement already satisfied: Pillow in /Users/chau_le/.pyenv/versions/3.11.0/envs/rag-venv/lib/python3.11/site-packages (from sentence-transformers>=2.6.0->langchain-huggingface) (11.0.0)\n",
      "Requirement already satisfied: numpy>=1.17 in /Users/chau_le/.pyenv/versions/3.11.0/envs/rag-venv/lib/python3.11/site-packages (from transformers>=4.39.0->langchain-huggingface) (1.26.4)\n",
      "Requirement already satisfied: regex!=2019.12.17 in /Users/chau_le/.pyenv/versions/3.11.0/envs/rag-venv/lib/python3.11/site-packages (from transformers>=4.39.0->langchain-huggingface) (2024.11.6)\n",
      "Collecting tokenizers>=0.19.1 (from langchain-huggingface)\n",
      "  Using cached tokenizers-0.21.0-cp39-abi3-macosx_11_0_arm64.whl.metadata (6.7 kB)\n",
      "Requirement already satisfied: safetensors>=0.4.1 in /Users/chau_le/.pyenv/versions/3.11.0/envs/rag-venv/lib/python3.11/site-packages (from transformers>=4.39.0->langchain-huggingface) (0.4.5)\n",
      "Requirement already satisfied: parso<0.9.0,>=0.8.4 in /Users/chau_le/.pyenv/versions/3.11.0/envs/rag-venv/lib/python3.11/site-packages (from jedi>=0.16->ipython>=6.1.0->ipywidgets) (0.8.4)\n",
      "Requirement already satisfied: jsonpointer>=1.9 in /Users/chau_le/.pyenv/versions/3.11.0/envs/rag-venv/lib/python3.11/site-packages (from jsonpatch<2.0,>=1.33->langchain-core<0.4.0,>=0.3.15->langchain-huggingface) (3.0.0)\n",
      "Requirement already satisfied: httpx<1,>=0.23.0 in /Users/chau_le/.pyenv/versions/3.11.0/envs/rag-venv/lib/python3.11/site-packages (from langsmith<0.4,>=0.1.125->langchain-core<0.4.0,>=0.3.15->langchain-huggingface) (0.28.1)\n",
      "Requirement already satisfied: orjson<4.0.0,>=3.9.14 in /Users/chau_le/.pyenv/versions/3.11.0/envs/rag-venv/lib/python3.11/site-packages (from langsmith<0.4,>=0.1.125->langchain-core<0.4.0,>=0.3.15->langchain-huggingface) (3.10.12)\n",
      "Requirement already satisfied: requests-toolbelt<2.0.0,>=1.0.0 in /Users/chau_le/.pyenv/versions/3.11.0/envs/rag-venv/lib/python3.11/site-packages (from langsmith<0.4,>=0.1.125->langchain-core<0.4.0,>=0.3.15->langchain-huggingface) (1.0.0)\n",
      "Requirement already satisfied: ptyprocess>=0.5 in /Users/chau_le/.pyenv/versions/3.11.0/envs/rag-venv/lib/python3.11/site-packages (from pexpect>4.3->ipython>=6.1.0->ipywidgets) (0.7.0)\n",
      "Requirement already satisfied: wcwidth in /Users/chau_le/.pyenv/versions/3.11.0/envs/rag-venv/lib/python3.11/site-packages (from prompt_toolkit<3.1.0,>=3.0.41->ipython>=6.1.0->ipywidgets) (0.2.13)\n",
      "Requirement already satisfied: annotated-types>=0.6.0 in /Users/chau_le/.pyenv/versions/3.11.0/envs/rag-venv/lib/python3.11/site-packages (from pydantic<3.0.0,>=2.5.2->langchain-core<0.4.0,>=0.3.15->langchain-huggingface) (0.7.0)\n",
      "Requirement already satisfied: pydantic-core==2.27.1 in /Users/chau_le/.pyenv/versions/3.11.0/envs/rag-venv/lib/python3.11/site-packages (from pydantic<3.0.0,>=2.5.2->langchain-core<0.4.0,>=0.3.15->langchain-huggingface) (2.27.1)\n",
      "Requirement already satisfied: charset-normalizer<4,>=2 in /Users/chau_le/.pyenv/versions/3.11.0/envs/rag-venv/lib/python3.11/site-packages (from requests->huggingface-hub>=0.23.0->langchain-huggingface) (3.4.0)\n",
      "Requirement already satisfied: idna<4,>=2.5 in /Users/chau_le/.pyenv/versions/3.11.0/envs/rag-venv/lib/python3.11/site-packages (from requests->huggingface-hub>=0.23.0->langchain-huggingface) (3.10)\n",
      "Requirement already satisfied: urllib3<3,>=1.21.1 in /Users/chau_le/.pyenv/versions/3.11.0/envs/rag-venv/lib/python3.11/site-packages (from requests->huggingface-hub>=0.23.0->langchain-huggingface) (2.2.3)\n",
      "Requirement already satisfied: certifi>=2017.4.17 in /Users/chau_le/.pyenv/versions/3.11.0/envs/rag-venv/lib/python3.11/site-packages (from requests->huggingface-hub>=0.23.0->langchain-huggingface) (2024.12.14)\n",
      "Requirement already satisfied: networkx in /Users/chau_le/.pyenv/versions/3.11.0/envs/rag-venv/lib/python3.11/site-packages (from torch>=1.11.0->sentence-transformers>=2.6.0->langchain-huggingface) (3.4.2)\n",
      "Requirement already satisfied: jinja2 in /Users/chau_le/.pyenv/versions/3.11.0/envs/rag-venv/lib/python3.11/site-packages (from torch>=1.11.0->sentence-transformers>=2.6.0->langchain-huggingface) (3.1.4)\n",
      "Requirement already satisfied: sympy==1.13.1 in /Users/chau_le/.pyenv/versions/3.11.0/envs/rag-venv/lib/python3.11/site-packages (from torch>=1.11.0->sentence-transformers>=2.6.0->langchain-huggingface) (1.13.1)\n",
      "Requirement already satisfied: mpmath<1.4,>=1.1.0 in /Users/chau_le/.pyenv/versions/3.11.0/envs/rag-venv/lib/python3.11/site-packages (from sympy==1.13.1->torch>=1.11.0->sentence-transformers>=2.6.0->langchain-huggingface) (1.3.0)\n",
      "Requirement already satisfied: joblib>=1.2.0 in /Users/chau_le/.pyenv/versions/3.11.0/envs/rag-venv/lib/python3.11/site-packages (from scikit-learn->sentence-transformers>=2.6.0->langchain-huggingface) (1.4.2)\n",
      "Requirement already satisfied: threadpoolctl>=3.1.0 in /Users/chau_le/.pyenv/versions/3.11.0/envs/rag-venv/lib/python3.11/site-packages (from scikit-learn->sentence-transformers>=2.6.0->langchain-huggingface) (3.5.0)\n",
      "Requirement already satisfied: executing>=1.2.0 in /Users/chau_le/.pyenv/versions/3.11.0/envs/rag-venv/lib/python3.11/site-packages (from stack_data->ipython>=6.1.0->ipywidgets) (2.1.0)\n",
      "Requirement already satisfied: asttokens>=2.1.0 in /Users/chau_le/.pyenv/versions/3.11.0/envs/rag-venv/lib/python3.11/site-packages (from stack_data->ipython>=6.1.0->ipywidgets) (3.0.0)\n",
      "Requirement already satisfied: pure-eval in /Users/chau_le/.pyenv/versions/3.11.0/envs/rag-venv/lib/python3.11/site-packages (from stack_data->ipython>=6.1.0->ipywidgets) (0.2.3)\n",
      "Requirement already satisfied: anyio in /Users/chau_le/.pyenv/versions/3.11.0/envs/rag-venv/lib/python3.11/site-packages (from httpx<1,>=0.23.0->langsmith<0.4,>=0.1.125->langchain-core<0.4.0,>=0.3.15->langchain-huggingface) (4.7.0)\n",
      "Requirement already satisfied: httpcore==1.* in /Users/chau_le/.pyenv/versions/3.11.0/envs/rag-venv/lib/python3.11/site-packages (from httpx<1,>=0.23.0->langsmith<0.4,>=0.1.125->langchain-core<0.4.0,>=0.3.15->langchain-huggingface) (1.0.7)\n",
      "Requirement already satisfied: h11<0.15,>=0.13 in /Users/chau_le/.pyenv/versions/3.11.0/envs/rag-venv/lib/python3.11/site-packages (from httpcore==1.*->httpx<1,>=0.23.0->langsmith<0.4,>=0.1.125->langchain-core<0.4.0,>=0.3.15->langchain-huggingface) (0.14.0)\n",
      "Requirement already satisfied: MarkupSafe>=2.0 in /Users/chau_le/.pyenv/versions/3.11.0/envs/rag-venv/lib/python3.11/site-packages (from jinja2->torch>=1.11.0->sentence-transformers>=2.6.0->langchain-huggingface) (3.0.2)\n",
      "Requirement already satisfied: sniffio>=1.1 in /Users/chau_le/.pyenv/versions/3.11.0/envs/rag-venv/lib/python3.11/site-packages (from anyio->httpx<1,>=0.23.0->langsmith<0.4,>=0.1.125->langchain-core<0.4.0,>=0.3.15->langchain-huggingface) (1.3.1)\n",
      "Using cached tokenizers-0.21.0-cp39-abi3-macosx_11_0_arm64.whl (2.6 MB)\n",
      "Installing collected packages: tokenizers\n",
      "  Attempting uninstall: tokenizers\n",
      "    Found existing installation: tokenizers 0.20.3\n",
      "    Uninstalling tokenizers-0.20.3:\n",
      "      Successfully uninstalled tokenizers-0.20.3\n",
      "\u001b[31mERROR: pip's dependency resolver does not currently take into account all the packages that are installed. This behaviour is the source of the following dependency conflicts.\n",
      "chromadb 0.5.23 requires tokenizers<=0.20.3,>=0.13.2, but you have tokenizers 0.21.0 which is incompatible.\u001b[0m\u001b[31m\n",
      "\u001b[0mSuccessfully installed tokenizers-0.21.0\n",
      "\n",
      "\u001b[1m[\u001b[0m\u001b[34;49mnotice\u001b[0m\u001b[1;39;49m]\u001b[0m\u001b[39;49m A new release of pip is available: \u001b[0m\u001b[31;49m24.3.1\u001b[0m\u001b[39;49m -> \u001b[0m\u001b[32;49m25.0\u001b[0m\n",
      "\u001b[1m[\u001b[0m\u001b[34;49mnotice\u001b[0m\u001b[1;39;49m]\u001b[0m\u001b[39;49m To update, run: \u001b[0m\u001b[32;49mpip install --upgrade pip\u001b[0m\n"
     ]
    }
   ],
   "source": [
    "! pip install langchain_community tiktoken langchain-openai langchainhub chromadb langchain bs4\n",
    "! pip install langchain-anthropic langchain_voyageai\n",
    "! pip install -U langchain-google-genai\n",
    "! pip install langchain-huggingface ipywidgets"
   ]
  },
  {
   "cell_type": "code",
   "execution_count": 73,
   "metadata": {},
   "outputs": [
    {
     "data": {
      "text/plain": [
       "True"
      ]
     },
     "execution_count": 73,
     "metadata": {},
     "output_type": "execute_result"
    }
   ],
   "source": [
    "from dotenv import load_dotenv\n",
    "load_dotenv(override=True)"
   ]
  },
  {
   "cell_type": "code",
   "execution_count": 53,
   "metadata": {},
   "outputs": [
    {
     "data": {
      "application/vnd.jupyter.widget-view+json": {
       "model_id": "0235801642424e178c9b8759da8a28c9",
       "version_major": 2,
       "version_minor": 0
      },
      "text/plain": [
       "VBox(children=(HTML(value='<center> <img\\nsrc=https://huggingface.co/front/assets/huggingface_logo-noborder.sv…"
      ]
     },
     "metadata": {},
     "output_type": "display_data"
    }
   ],
   "source": [
    "import os\n",
    "import bs4\n",
    "from langchain import hub\n",
    "from langchain.text_splitter import RecursiveCharacterTextSplitter\n",
    "from langchain_community.document_loaders import WebBaseLoader\n",
    "from langchain_community.vectorstores import Chroma\n",
    "from langchain_core.output_parsers import StrOutputParser\n",
    "from langchain_core.runnables import RunnablePassthrough\n",
    "from langchain_openai import ChatOpenAI, OpenAIEmbeddings\n",
    "from langchain_anthropic import ChatAnthropic\n",
    "from langchain_voyageai import VoyageAIEmbeddings\n",
    "from langchain_google_genai import ChatGoogleGenerativeAI\n",
    "from langchain_huggingface import HuggingFaceEndpoint, ChatHuggingFace\n",
    "\n",
    "from huggingface_hub import login\n",
    "login() # You will be prompted for your HF key, which will then be saved locally"
   ]
  },
  {
   "cell_type": "markdown",
   "metadata": {},
   "source": [
    "# Indexing\n",
    "Load Documents -> Split -> Add chunks to Vector Store"
   ]
  },
  {
   "cell_type": "code",
   "execution_count": 4,
   "metadata": {},
   "outputs": [
    {
     "name": "stderr",
     "output_type": "stream",
     "text": [
      "/var/folders/qp/cx88xq3j1mq96hp2m3nc3lf00000gn/T/ipykernel_84955/431877094.py:1: LangChainDeprecationWarning: The class `Chroma` was deprecated in LangChain 0.2.9 and will be removed in 1.0. An updated version of the class exists in the :class:`~langchain-chroma package and should be used instead. To use it run `pip install -U :class:`~langchain-chroma` and import as `from :class:`~langchain_chroma import Chroma``.\n",
      "  vectorstore = Chroma(embedding_function=VoyageAIEmbeddings(batch_size=32, model='voyage-3'), persist_directory='./chroma')\n"
     ]
    }
   ],
   "source": [
    "vectorstore = Chroma(embedding_function=VoyageAIEmbeddings(batch_size=32, model='voyage-3'), persist_directory='./chroma')"
   ]
  },
  {
   "cell_type": "code",
   "execution_count": 93,
   "metadata": {},
   "outputs": [],
   "source": [
    "#### INDEXING ####\n",
    "\n",
    "# Load Documents\n",
    "loader = WebBaseLoader(\n",
    "    web_paths=(\"https://lilianweng.github.io/posts/2023-06-23-agent/\",),\n",
    "    bs_kwargs=dict(\n",
    "        parse_only=bs4.SoupStrainer(\n",
    "            class_=(\"post-content\", \"post-title\", \"post-header\")\n",
    "        )\n",
    "    ),\n",
    ")\n",
    "docs = loader.load()\n",
    "\n",
    "# Split\n",
    "text_splitter = RecursiveCharacterTextSplitter(chunk_size=1000, chunk_overlap=200)\n",
    "splits = text_splitter.split_documents(docs)"
   ]
  },
  {
   "cell_type": "code",
   "execution_count": null,
   "metadata": {},
   "outputs": [
    {
     "name": "stderr",
     "output_type": "stream",
     "text": [
      "/var/folders/qp/cx88xq3j1mq96hp2m3nc3lf00000gn/T/ipykernel_31867/668048007.py:4: LangChainDeprecationWarning: The class `Chroma` was deprecated in LangChain 0.2.9 and will be removed in 1.0. An updated version of the class exists in the :class:`~langchain-chroma package and should be used instead. To use it run `pip install -U :class:`~langchain-chroma` and import as `from :class:`~langchain_chroma import Chroma``.\n",
      "  vectorstore = Chroma(embedding_function=VoyageAIEmbeddings(batch_size=32, model='voyage-3'), persist_directory='./chroma')\n"
     ]
    },
    {
     "name": "stdout",
     "output_type": "stream",
     "text": [
      "Adding 0 10\n",
      "Adding 10 20\n",
      "Adding 20 30\n",
      "Adding 30 40\n",
      "Adding 40 50\n",
      "Adding 50 60\n",
      "Adding 60 70\n"
     ]
    }
   ],
   "source": [
    "from time import sleep\n",
    "\n",
    "# Embed\n",
    "for i in range(0, len(splits), 10):\n",
    "    print('Adding', i, i+10)\n",
    "    documents = splits[i:i+10]\n",
    "    vectorstore.add_documents(documents=documents)\n",
    "    sleep(65)"
   ]
  },
  {
   "cell_type": "markdown",
   "metadata": {},
   "source": [
    "# Retrieval and Generation"
   ]
  },
  {
   "cell_type": "code",
   "execution_count": 8,
   "metadata": {},
   "outputs": [],
   "source": [
    "#### RETRIEVAL and GENERATION ####\n",
    "\n",
    "# Prompt\n",
    "prompt = hub.pull(\"rlm/rag-prompt\")\n",
    "retriever = vectorstore.as_retriever()"
   ]
  },
  {
   "cell_type": "code",
   "execution_count": 9,
   "metadata": {},
   "outputs": [
    {
     "name": "stderr",
     "output_type": "stream",
     "text": [
      "Note: Environment variable`HF_TOKEN` is set and is the current active token independently from the token you've just configured.\n"
     ]
    }
   ],
   "source": [
    "# LLM\n",
    "# llm = ChatOpenAI(model_name=\"gpt-3.5-turbo\", temperature=0)\n",
    "# llm = ChatAnthropic(model='claude-3-opus-20240229')\n",
    "# ChatGoogleGenerativeAI\n",
    "# 2 RPM (requests per minute)\n",
    "# 32,000 TPM (tokens per minute)\n",
    "# 50 RPD (requests per day)\n",
    "# llm = ChatGoogleGenerativeAI(model=\"gemini-pro\")\n",
    "\n",
    "llm = ChatHuggingFace(\n",
    "    verbose=True,\n",
    "    llm=HuggingFaceEndpoint(\n",
    "        repo_id=\"meta-llama/Llama-3.2-1B-Instruct\",\n",
    "        task=\"text-generation\",\n",
    "        max_new_tokens=256,\n",
    "        do_sample=False,\n",
    "        repetition_penalty=1.03,\n",
    "    ))\n",
    "\n",
    "\n",
    "# Post-processing\n",
    "def format_docs(docs):\n",
    "    return \"\\n\\n\".join(doc.page_content for doc in docs)"
   ]
  },
  {
   "cell_type": "code",
   "execution_count": 10,
   "metadata": {},
   "outputs": [
    {
     "data": {
      "text/plain": [
       "'Task decomposition is the process of breaking down a complex task into multiple manageable subtasks. It can be done using Language Models like LLMs (e.g., HuggingGPT), task-specific instructions, or human inputs, and has various stages, including task planning and parsing, depending on the prompt and task complexity.'"
      ]
     },
     "execution_count": 10,
     "metadata": {},
     "output_type": "execute_result"
    }
   ],
   "source": [
    "# Chain\n",
    "rag_chain = (\n",
    "    {\"context\": retriever | format_docs, \"question\": RunnablePassthrough()}\n",
    "    | prompt\n",
    "    | llm\n",
    "    | StrOutputParser()\n",
    ")\n",
    "\n",
    "# Question\n",
    "rag_chain.invoke(\"What is Task Decomposition?\")"
   ]
  },
  {
   "cell_type": "markdown",
   "metadata": {},
   "source": [
    "# Query Translation - rephrasing queries\n",
    "\n",
    "## Multi-queries\n",
    "Not all queries are clear enough. Abstract queries can lead to improper embedding vector, which can cause confusion in searching for the right document.\n",
    "The purpose of this is to translate one query into multiple queries, each tackle one aspect of the query.\n",
    "\n",
    "My observations: If the questions is lacking details and context, the output is not relevant enough?\n",
    "\n",
    "Split into multiple queries -> Do retrieve step for each query -> Union results into one set of distinct documents -> Use these documents as output"
   ]
  },
  {
   "cell_type": "code",
   "execution_count": 42,
   "metadata": {},
   "outputs": [],
   "source": [
    "from langchain.prompts import ChatPromptTemplate\n",
    "\n",
    "# Multi Query: Different Perspectives\n",
    "template = \"\"\"You are an AI language model assistant. Your task is to generate three \n",
    "different versions of the given user question to retrieve relevant documents from a vector \n",
    "database. By generating multiple perspectives on the user question, your goal is to help\n",
    "the user overcome some of the limitations of the distance-based similarity search.\n",
    "Just provide the questions, no need to introduce or explain further.\n",
    "Example output format:\n",
    "1. <Question 1>\n",
    "2. <Question 2>\n",
    "Provide these alternative questions separated by newlines. Original question: {question}\"\"\"\n",
    "prompt_perspectives = ChatPromptTemplate.from_template(template)\n",
    "\n",
    "generate_queries = (\n",
    "    prompt_perspectives \n",
    "    | llm \n",
    "    | StrOutputParser() \n",
    "    | (lambda x: x.split(\"\\n\"))\n",
    ")"
   ]
  },
  {
   "cell_type": "code",
   "execution_count": 27,
   "metadata": {},
   "outputs": [
    {
     "data": {
      "text/plain": [
       "['1. What are the key challenges in task decomposition for Large Language Models (LLMs) agents?',\n",
       " '2. What are the most critical concepts for understanding task decomposition in LLMs, and how do they relate to other related areas of research, such as explainability and fairness?',\n",
       " '3. How can task decomposition be seen as a specific instance of a broader field of study that encompasses not only LLMs but also other areas like generalization, transfer learning, and model interpretability?']"
      ]
     },
     "execution_count": 27,
     "metadata": {},
     "output_type": "execute_result"
    }
   ],
   "source": [
    "generate_queries.invoke({'question': \"What is task decomposition for LLM agents?\"})"
   ]
  },
  {
   "cell_type": "code",
   "execution_count": 28,
   "metadata": {},
   "outputs": [
    {
     "data": {
      "text/plain": [
       "7"
      ]
     },
     "execution_count": 28,
     "metadata": {},
     "output_type": "execute_result"
    }
   ],
   "source": [
    "from langchain.load import dumps, loads\n",
    "def get_unique_union(documents: list[list]):\n",
    "    \"\"\" Unique union of retrieved docs \"\"\"\n",
    "    # Flatten list of lists, and convert each Document to string\n",
    "    flattened_docs = [dumps(doc) for sublist in documents for doc in sublist]\n",
    "    # Get unique documents\n",
    "    unique_docs = list(set(flattened_docs))\n",
    "    # Return\n",
    "    return [loads(doc) for doc in unique_docs]\n",
    "\n",
    "# Retrieve\n",
    "question = \"What is task decomposition for LLM agents?\"\n",
    "                                      # map each question to retriever\n",
    "retrieval_chain = generate_queries | retriever.map() | get_unique_union\n",
    "docs = retrieval_chain.invoke({\"question\":question})\n",
    "len(docs)"
   ]
  },
  {
   "cell_type": "code",
   "execution_count": 29,
   "metadata": {},
   "outputs": [
    {
     "data": {
      "text/plain": [
       "[Document(metadata={'source': 'https://lilianweng.github.io/posts/2023-06-23-agent/'}, page_content='Tree of Thoughts (Yao et al. 2023) extends CoT by exploring multiple reasoning possibilities at each step. It first decomposes the problem into multiple thought steps and generates multiple thoughts per step, creating a tree structure. The search process can be BFS (breadth-first search) or DFS (depth-first search) with each state evaluated by a classifier (via a prompt) or majority vote.\\nTask decomposition can be done (1) by LLM with simple prompting like \"Steps for XYZ.\\\\n1.\", \"What are the subgoals for achieving XYZ?\", (2) by using task-specific instructions; e.g. \"Write a story outline.\" for writing a novel, or (3) with human inputs.'),\n",
       " Document(metadata={'source': 'https://lilianweng.github.io/posts/2023-06-23-agent/'}, page_content='LLM Powered Autonomous Agents\\n    \\nDate: June 23, 2023  |  Estimated Reading Time: 31 min  |  Author: Lilian Weng\\n\\n\\nBuilding agents with LLM (large language model) as its core controller is a cool concept. Several proof-of-concepts demos, such as AutoGPT, GPT-Engineer and BabyAGI, serve as inspiring examples. The potentiality of LLM extends beyond generating well-written copies, stories, essays and programs; it can be framed as a powerful general problem solver.\\nAgent System Overview#\\nIn a LLM-powered autonomous agent system, LLM functions as the agent’s brain, complemented by several key components:\\n\\nPlanning\\n\\nSubgoal and decomposition: The agent breaks down large tasks into smaller, manageable subgoals, enabling efficient handling of complex tasks.\\nReflection and refinement: The agent can do self-criticism and self-reflection over past actions, learn from mistakes and refine them for future steps, thereby improving the quality of final results.\\n\\n\\nMemory'),\n",
       " Document(metadata={'source': 'https://lilianweng.github.io/posts/2023-06-23-agent/'}, page_content='Reliability of natural language interface: Current agent system relies on natural language as an interface between LLMs and external components such as memory and tools. However, the reliability of model outputs is questionable, as LLMs may make formatting errors and occasionally exhibit rebellious behavior (e.g. refuse to follow an instruction). Consequently, much of the agent demo code focuses on parsing model output.\\n\\n\\nCitation#\\nCited as:\\n\\nWeng, Lilian. (Jun 2023). “LLM-powered Autonomous Agents”. Lil’Log. https://lilianweng.github.io/posts/2023-06-23-agent/.'),\n",
       " Document(metadata={'source': 'https://lilianweng.github.io/posts/2023-06-23-agent/'}, page_content='Fig. 1. Overview of a LLM-powered autonomous agent system.\\nComponent One: Planning#\\nA complicated task usually involves many steps. An agent needs to know what they are and plan ahead.\\nTask Decomposition#\\nChain of thought (CoT; Wei et al. 2022) has become a standard prompting technique for enhancing model performance on complex tasks. The model is instructed to “think step by step” to utilize more test-time computation to decompose hard tasks into smaller and simpler steps. CoT transforms big tasks into multiple manageable tasks and shed lights into an interpretation of the model’s thinking process.'),\n",
       " Document(metadata={'source': 'https://lilianweng.github.io/posts/2023-06-23-agent/'}, page_content='(2) Model selection: LLM distributes the tasks to expert models, where the request is framed as a multiple-choice question. LLM is presented with a list of models to choose from. Due to the limited context length, task type based filtration is needed.\\nInstruction:\\n\\nGiven the user request and the call command, the AI assistant helps the user to select a suitable model from a list of models to process the user request. The AI assistant merely outputs the model id of the most appropriate model. The output must be in a strict JSON format: \"id\": \"id\", \"reason\": \"your detail reason for the choice\". We have a list of models for you to choose from {{ Candidate Models }}. Please select one model from the list.\\n\\n(3) Task execution: Expert models execute on the specific tasks and log results.\\nInstruction:'),\n",
       " Document(metadata={'source': 'https://lilianweng.github.io/posts/2023-06-23-agent/'}, page_content='}\\n]\\nChallenges#\\nAfter going through key ideas and demos of building LLM-centered agents, I start to see a couple common limitations:'),\n",
       " Document(metadata={'source': 'https://lilianweng.github.io/posts/2023-06-23-agent/'}, page_content='Fig. 11. Illustration of how HuggingGPT works. (Image source: Shen et al. 2023)\\nThe system comprises of 4 stages:\\n(1) Task planning: LLM works as the brain and parses the user requests into multiple tasks. There are four attributes associated with each task: task type, ID, dependencies, and arguments. They use few-shot examples to guide LLM to do task parsing and planning.\\nInstruction:')]"
      ]
     },
     "execution_count": 29,
     "metadata": {},
     "output_type": "execute_result"
    }
   ],
   "source": [
    "docs"
   ]
  },
  {
   "cell_type": "code",
   "execution_count": 30,
   "metadata": {},
   "outputs": [
    {
     "data": {
      "text/plain": [
       "ChatPromptTemplate(input_variables=['context', 'question'], input_types={}, partial_variables={}, metadata={'lc_hub_owner': 'rlm', 'lc_hub_repo': 'rag-prompt', 'lc_hub_commit_hash': '50442af133e61576e74536c6556cefe1fac147cad032f4377b60c436e6cdcb6e'}, messages=[HumanMessagePromptTemplate(prompt=PromptTemplate(input_variables=['context', 'question'], input_types={}, partial_variables={}, template=\"You are an assistant for question-answering tasks. Use the following pieces of retrieved context to answer the question. If you don't know the answer, just say that you don't know. Use three sentences maximum and keep the answer concise.\\nQuestion: {question} \\nContext: {context} \\nAnswer:\"), additional_kwargs={})])"
      ]
     },
     "execution_count": 30,
     "metadata": {},
     "output_type": "execute_result"
    }
   ],
   "source": [
    "prompt"
   ]
  },
  {
   "cell_type": "code",
   "execution_count": 35,
   "metadata": {},
   "outputs": [
    {
     "data": {
      "text/plain": [
       "'Task decomposition for Large Language Model (LLM) agents is achieved by breaking down complex tasks into multiple manageable subgoals and generating multiple thoughts per step, creating a tree structure. This is often done by prompting the LLM with simple prompting like \"Steps for XYZ.\\\\\\\\n1.\", \"What are the subgoals for achieving XYZ?\", or using task-specific instructions such as writing a story outline. Task decomposition is also combined with other techniques like BFS (breadth-first search) or DFS (depth-first'"
      ]
     },
     "execution_count": 35,
     "metadata": {},
     "output_type": "execute_result"
    }
   ],
   "source": [
    "# Chain\n",
    "\n",
    "rag_chain = (\n",
    "    {\"context\": retrieval_chain, \"question\": RunnablePassthrough()}\n",
    "    | prompt\n",
    "    | llm\n",
    "    | StrOutputParser()\n",
    ")\n",
    "\n",
    "question = \"What is task decomposition for LLM agents?\"\n",
    "rag_chain.invoke({\"question\": question})"
   ]
  },
  {
   "cell_type": "markdown",
   "metadata": {},
   "source": [
    "## Rag Fusion\n",
    "- Step 1: Multi-queries. Retrieve docs through each query\n",
    "- Step 2: Add ranking through fused scores for each document"
   ]
  },
  {
   "cell_type": "code",
   "execution_count": 96,
   "metadata": {},
   "outputs": [],
   "source": [
    "def reciprocal_rank_fusion(results: list[list], k=60):\n",
    "    \"\"\" Reciprocal_rank_fusion that takes multiple lists of ranked documents \n",
    "        and an optional parameter k used in the RRF formula \"\"\"\n",
    "    \n",
    "    # Initialize a dictionary to hold fused scores for each unique document\n",
    "    fused_scores = {}\n",
    "\n",
    "    # Iterate through each list of ranked documents\n",
    "    for docs in results:\n",
    "        # Iterate through each document in the list, with its rank (position in the list)\n",
    "        for rank, doc in enumerate(docs):\n",
    "            # Convert the document to a string format to use as a key (assumes documents can be serialized to JSON)\n",
    "            doc_str = dumps(doc)\n",
    "            # If the document is not yet in the fused_scores dictionary, add it with an initial score of 0\n",
    "            if doc_str not in fused_scores:\n",
    "                fused_scores[doc_str] = 0\n",
    "            # Retrieve the current score of the document, if any\n",
    "            previous_score = fused_scores[doc_str]\n",
    "            # Update the score of the document using the RRF formula: 1 / (rank + k)\n",
    "            fused_scores[doc_str] += 1 / (rank + k)\n",
    "\n",
    "    # Sort the documents based on their fused scores in descending order to get the final reranked results\n",
    "    reranked_results = [\n",
    "        (loads(doc), score)\n",
    "        for doc, score in sorted(fused_scores.items(), key=lambda x: x[1], reverse=True)\n",
    "    ]\n",
    "\n",
    "    # Return the reranked results as a list of tuples, each containing the document and its fused score\n",
    "    return reranked_results\n",
    "\n",
    "def format_docs_fused_score(result: list[any]): \n",
    "    return \"\\n\\n\".join(f\"Fused Score: {score}\\nContent: {doc.page_content}\" for (doc, score) in result)"
   ]
  },
  {
   "cell_type": "code",
   "execution_count": null,
   "metadata": {},
   "outputs": [],
   "source": [
    "# Multi Query: Different Perspectives\n",
    "template = \"\"\"You are an AI language model assistant. Your task is to generate three \n",
    "different versions of the given user question to retrieve relevant documents from a vector \n",
    "database. By generating multiple perspectives on the user question, your goal is to help\n",
    "the user overcome some of the limitations of the distance-based similarity search.\n",
    "Just provide the questions, no need to introduce or explain further.\n",
    "Example output format:\n",
    "1. <Question 1>\n",
    "2. <Question 2>\n",
    "Provide these alternative questions separated by newlines. Original question: {question}\"\"\"\n",
    "prompt_perspectives = ChatPromptTemplate.from_template(template)\n",
    "\n",
    "generate_queries = (\n",
    "    prompt_perspectives \n",
    "    | llm \n",
    "    | StrOutputParser() \n",
    "    | (lambda x: x.split(\"\\n\"))\n",
    ")\n",
    "\n",
    "retrieval_chain = generate_queries | (lambda x: x[:3]) | retriever.map() | get_unique_union\n",
    "\n",
    "rag_chain = (\n",
    "    {\"context\": retrieval_chain, \"question\": RunnablePassthrough()}\n",
    "    | prompt\n",
    "    | llm\n",
    "    | StrOutputParser()\n",
    ")\n"
   ]
  },
  {
   "cell_type": "code",
   "execution_count": null,
   "metadata": {},
   "outputs": [],
   "source": [
    "question = \"What is task decomposition for LLM agents?\"\n",
    "rag_chain.invoke({\"question\": question})"
   ]
  },
  {
   "cell_type": "code",
   "execution_count": 97,
   "metadata": {},
   "outputs": [],
   "source": [
    "template = \"\"\"Answer the following question based on this context:\n",
    "{context}\n",
    "\n",
    "Question: {question}\n",
    "\"\"\"\n",
    "minimal_prompt = ChatPromptTemplate.from_template(template)\n",
    "\n",
    "rag_fusion_retrieval_chain = generate_queries | (lambda x: x[:3]) | retriever.map() | reciprocal_rank_fusion\n",
    "rag_fusion_chain = (\n",
    "  {\"context\": rag_fusion_retrieval_chain, \"question\": RunnablePassthrough()}\n",
    "  | prompt\n",
    "  | llm\n",
    "  | StrOutputParser() )"
   ]
  },
  {
   "cell_type": "code",
   "execution_count": 98,
   "metadata": {},
   "outputs": [
    {
     "data": {
      "text/plain": [
       "'Task decomposition in LLM agents involves splitting complex tasks into smaller, manageable steps and executing them one by one.'"
      ]
     },
     "execution_count": 98,
     "metadata": {},
     "output_type": "execute_result"
    }
   ],
   "source": [
    "# sleep(60)\n",
    "rag_fusion_chain.invoke(\"What is task decomposition for LLM agents?\")"
   ]
  },
  {
   "cell_type": "markdown",
   "metadata": {},
   "source": [
    "## Decomposition\n",
    "Step 1: Do multi-queries\n",
    "\n",
    "Step 2:\n",
    "- Option 1: Ask questions recursively, which one answer gets feed into the next question as background information\n",
    "  ```\n",
    "  background_info = ''\n",
    "  for query in multi-queries:\n",
    "    template = \"\n",
    "      {query}\n",
    "\n",
    "      {background_info}\n",
    "\n",
    "      {context}\n",
    "    \"\n",
    "    answer = prompt(template) | llm\n",
    "    background_info += \"Question: {query} Answer: {answer}\"\n",
    "  ```\n",
    "\n",
    "- Option 2: Ask questions independently, with one final step to merge the answer\n",
    "  ```\n",
    "  background_info = ''\n",
    "  for query in multi-queries:\n",
    "    answer = prompt | llm\n",
    "    background_info += \"Question: {query} Answer: {answer}\"\n",
    "\n",
    "  template = \"{question} {background info}\"\n",
    "  final_answer = prompt(template) | llm\n",
    "  ```\n",
    "    "
   ]
  },
  {
   "cell_type": "markdown",
   "metadata": {},
   "source": [
    "## Step back\n",
    "- Step 1: Use few-shot examples to generate a step-back query which is more general than the original question\n",
    "- Step 2: Ask the question using the context of step-back query and the original query"
   ]
  },
  {
   "cell_type": "code",
   "execution_count": 105,
   "metadata": {},
   "outputs": [],
   "source": [
    "# Few Shot Examples\n",
    "from langchain_core.prompts import ChatPromptTemplate, FewShotChatMessagePromptTemplate\n",
    "examples = [\n",
    "    {\n",
    "        \"input\": \"Could the members of The Police perform lawful arrests?\",\n",
    "        \"output\": \"what can the members of The Police do?\",\n",
    "    },\n",
    "    {\n",
    "        \"input\": \"Jan Sindel’s was born in what country?\",\n",
    "        \"output\": \"what is Jan Sindel’s personal history?\",\n",
    "    },\n",
    "]\n",
    "# We now transform these to example messages\n",
    "example_prompt = ChatPromptTemplate.from_messages(\n",
    "    [\n",
    "        (\"human\", \"{input}\"),\n",
    "        (\"ai\", \"{output}\"),\n",
    "    ]\n",
    ")\n",
    "few_shot_prompt = FewShotChatMessagePromptTemplate(\n",
    "    example_prompt=example_prompt,\n",
    "    examples=examples,\n",
    ")\n",
    "prompt = ChatPromptTemplate.from_messages(\n",
    "    [\n",
    "        (\n",
    "            \"system\",\n",
    "            \"\"\"You are an expert at world knowledge. Your task is to step back and paraphrase a question to a more generic step-back question, which is easier to answer. Here are a few examples:\"\"\",\n",
    "        ),\n",
    "        # Few shot examples\n",
    "        few_shot_prompt,\n",
    "        # New question\n",
    "        (\"user\", \"{question}\"),\n",
    "    ]\n",
    ")"
   ]
  },
  {
   "cell_type": "code",
   "execution_count": 106,
   "metadata": {},
   "outputs": [
    {
     "data": {
      "text/plain": [
       "FewShotChatMessagePromptTemplate(examples=[{'input': 'Could the members of The Police perform lawful arrests?', 'output': 'what can the members of The Police do?'}, {'input': 'Jan Sindel’s was born in what country?', 'output': 'what is Jan Sindel’s personal history?'}], input_variables=[], input_types={}, partial_variables={}, example_prompt=ChatPromptTemplate(input_variables=['input', 'output'], input_types={}, partial_variables={}, messages=[HumanMessagePromptTemplate(prompt=PromptTemplate(input_variables=['input'], input_types={}, partial_variables={}, template='{input}'), additional_kwargs={}), AIMessagePromptTemplate(prompt=PromptTemplate(input_variables=['output'], input_types={}, partial_variables={}, template='{output}'), additional_kwargs={})]))"
      ]
     },
     "execution_count": 106,
     "metadata": {},
     "output_type": "execute_result"
    }
   ],
   "source": [
    "few_shot_prompt"
   ]
  },
  {
   "cell_type": "code",
   "execution_count": 125,
   "metadata": {},
   "outputs": [
    {
     "data": {
      "text/plain": [
       "\"what's the functionality and components of large language models (LLMs)?\""
      ]
     },
     "execution_count": 125,
     "metadata": {},
     "output_type": "execute_result"
    }
   ],
   "source": [
    "generate_queries_step_back = (\n",
    "  prompt\n",
    "  | llm\n",
    "  | StrOutputParser()\n",
    ")\n",
    "question = \"What is task decomposition for LLM agents?\"\n",
    "generate_queries_step_back.invoke(question)"
   ]
  },
  {
   "cell_type": "code",
   "execution_count": 112,
   "metadata": {},
   "outputs": [
    {
     "data": {
      "text/plain": [
       "[Document(metadata={'source': 'https://lilianweng.github.io/posts/2023-06-23-agent/'}, page_content='LLM Powered Autonomous Agents\\n    \\nDate: June 23, 2023  |  Estimated Reading Time: 31 min  |  Author: Lilian Weng\\n\\n\\nBuilding agents with LLM (large language model) as its core controller is a cool concept. Several proof-of-concepts demos, such as AutoGPT, GPT-Engineer and BabyAGI, serve as inspiring examples. The potentiality of LLM extends beyond generating well-written copies, stories, essays and programs; it can be framed as a powerful general problem solver.\\nAgent System Overview#\\nIn a LLM-powered autonomous agent system, LLM functions as the agent’s brain, complemented by several key components:\\n\\nPlanning\\n\\nSubgoal and decomposition: The agent breaks down large tasks into smaller, manageable subgoals, enabling efficient handling of complex tasks.\\nReflection and refinement: The agent can do self-criticism and self-reflection over past actions, learn from mistakes and refine them for future steps, thereby improving the quality of final results.\\n\\n\\nMemory'),\n",
       " Document(metadata={'source': 'https://lilianweng.github.io/posts/2023-06-23-agent/'}, page_content='Fig. 9. Comparison of MIPS algorithms, measured in recall@10. (Image source: Google Blog, 2020)\\nCheck more MIPS algorithms and performance comparison in ann-benchmarks.com.\\nComponent Three: Tool Use#\\nTool use is a remarkable and distinguishing characteristic of human beings. We create, modify and utilize external objects to do things that go beyond our physical and cognitive limits. Equipping LLMs with external tools can significantly extend the model capabilities.'),\n",
       " Document(metadata={'source': 'https://lilianweng.github.io/posts/2023-06-23-agent/'}, page_content='Reliability of natural language interface: Current agent system relies on natural language as an interface between LLMs and external components such as memory and tools. However, the reliability of model outputs is questionable, as LLMs may make formatting errors and occasionally exhibit rebellious behavior (e.g. refuse to follow an instruction). Consequently, much of the agent demo code focuses on parsing model output.\\n\\n\\nCitation#\\nCited as:\\n\\nWeng, Lilian. (Jun 2023). “LLM-powered Autonomous Agents”. Lil’Log. https://lilianweng.github.io/posts/2023-06-23-agent/.'),\n",
       " Document(metadata={'source': 'https://lilianweng.github.io/posts/2023-06-23-agent/'}, page_content='Or\\n@article{weng2023agent,\\n  title   = \"LLM-powered Autonomous Agents\",\\n  author  = \"Weng, Lilian\",\\n  journal = \"lilianweng.github.io\",\\n  year    = \"2023\",\\n  month   = \"Jun\",\\n  url     = \"https://lilianweng.github.io/posts/2023-06-23-agent/\"\\n}\\nReferences#\\n[1] Wei et al. “Chain of thought prompting elicits reasoning in large language models.” NeurIPS 2022\\n[2] Yao et al. “Tree of Thoughts: Dliberate Problem Solving with Large Language Models.” arXiv preprint arXiv:2305.10601 (2023).\\n[3] Liu et al. “Chain of Hindsight Aligns Language Models with Feedback\\n“ arXiv preprint arXiv:2302.02676 (2023).\\n[4] Liu et al. “LLM+P: Empowering Large Language Models with Optimal Planning Proficiency” arXiv preprint arXiv:2304.11477 (2023).\\n[5] Yao et al. “ReAct: Synergizing reasoning and acting in language models.” ICLR 2023.\\n[6] Google Blog. “Announcing ScaNN: Efficient Vector Similarity Search” July 28, 2020.\\n[7] https://chat.openai.com/share/46ff149e-a4c7-4dd7-a800-fc4a642ea389')]"
      ]
     },
     "execution_count": 112,
     "metadata": {},
     "output_type": "execute_result"
    }
   ],
   "source": [
    "context_step_back = generate_queries_step_back | retriever\n",
    "context_step_back.invoke({\"question\": question})"
   ]
  },
  {
   "cell_type": "code",
   "execution_count": null,
   "metadata": {},
   "outputs": [],
   "source": [
    "# Response prompt \n",
    "response_prompt_template = \"\"\"You are an expert of world knowledge. I am going to ask you a question. Your response should be comprehensive and not contradicted with the following context if they are relevant. Otherwise, ignore them if they are not relevant.\n",
    "\n",
    "# {normal_context}\n",
    "# {step_back_context}\n",
    "\n",
    "# Original Question: {question}\n",
    "# Answer:\"\"\"\n",
    "response_prompt = ChatPromptTemplate.from_template(response_prompt_template)"
   ]
  },
  {
   "cell_type": "code",
   "execution_count": null,
   "metadata": {},
   "outputs": [],
   "source": [
    "from langchain_core.runnables import RunnableLambda, RunnableParallel\n",
    "chain = (\n",
    "    RunnableParallel(\n",
    "      question=RunnablePassthrough(),\n",
    "      normal_context=retriever,\n",
    "      step_back_context=generate_queries_step_back | retriever\n",
    "  )\n",
    "  | response_prompt\n",
    "  | llm\n",
    "  | StrOutputParser()\n",
    ")"
   ]
  },
  {
   "cell_type": "code",
   "execution_count": null,
   "metadata": {},
   "outputs": [
    {
     "data": {
      "text/plain": [
       "'Task decomposition is a crucial component in Large Language Model (LLM) agents, enabling them to break down complex tasks into smaller, manageable subtasks. This process is essential for improving the efficiency and quality of future tasks. Task decomposition decouples the task-parsing process from the task-execution process, allowing the agent to focus on one subtask at a time, thereby reducing the risk of errors and increasing the overall quality of the final output.\\n\\nTask decomposition is typically achieved through a combination of methods,'"
      ]
     },
     "execution_count": 130,
     "metadata": {},
     "output_type": "execute_result"
    }
   ],
   "source": [
    "chain.invoke(question)"
   ]
  },
  {
   "cell_type": "markdown",
   "metadata": {},
   "source": [
    "## HyDE\n",
    "- Current approach: embed question, embed documents, find cosine similarity\n",
    "- Potential problem: questions (sentence) and documents (passage) could be mapped to different space because they are very different text object\n",
    "  - Density: documents are usually large text chunks which can be embedded into dense vectors, whereas questions are usually sentences\n",
    "  - Wording: documents tend to be written using a more resourceful lexicon, whereas questions are sometimes ill-phrased by the user\n",
    "- Solution: ask LLM to write a passage from the question and use the new passage as the key to retrieve documents\n",
    "- Drawback: what if LLM generates a passage with misleading information and hence, the retrieved documents are irrelevant?"
   ]
  },
  {
   "cell_type": "markdown",
   "metadata": {},
   "source": []
  },
  {
   "cell_type": "markdown",
   "metadata": {},
   "source": [
    "# LangGraph"
   ]
  },
  {
   "cell_type": "code",
   "execution_count": 12,
   "metadata": {},
   "outputs": [
    {
     "name": "stdout",
     "output_type": "stream",
     "text": [
      "Collecting langgraph\n",
      "  Downloading langgraph-0.2.69-py3-none-any.whl.metadata (17 kB)\n",
      "Requirement already satisfied: langchain-core!=0.3.0,!=0.3.1,!=0.3.10,!=0.3.11,!=0.3.12,!=0.3.13,!=0.3.14,!=0.3.15,!=0.3.16,!=0.3.17,!=0.3.18,!=0.3.19,!=0.3.2,!=0.3.20,!=0.3.21,!=0.3.22,!=0.3.3,!=0.3.4,!=0.3.5,!=0.3.6,!=0.3.7,!=0.3.8,!=0.3.9,<0.4.0,>=0.2.43 in /Users/chau_le/.pyenv/versions/3.11.0/envs/rag-venv/lib/python3.11/site-packages (from langgraph) (0.3.33)\n",
      "Collecting langgraph-checkpoint<3.0.0,>=2.0.10 (from langgraph)\n",
      "  Downloading langgraph_checkpoint-2.0.10-py3-none-any.whl.metadata (4.6 kB)\n",
      "Collecting langgraph-sdk<0.2.0,>=0.1.42 (from langgraph)\n",
      "  Downloading langgraph_sdk-0.1.51-py3-none-any.whl.metadata (1.8 kB)\n",
      "Requirement already satisfied: PyYAML>=5.3 in /Users/chau_le/.pyenv/versions/3.11.0/envs/rag-venv/lib/python3.11/site-packages (from langchain-core!=0.3.0,!=0.3.1,!=0.3.10,!=0.3.11,!=0.3.12,!=0.3.13,!=0.3.14,!=0.3.15,!=0.3.16,!=0.3.17,!=0.3.18,!=0.3.19,!=0.3.2,!=0.3.20,!=0.3.21,!=0.3.22,!=0.3.3,!=0.3.4,!=0.3.5,!=0.3.6,!=0.3.7,!=0.3.8,!=0.3.9,<0.4.0,>=0.2.43->langgraph) (6.0.2)\n",
      "Requirement already satisfied: jsonpatch<2.0,>=1.33 in /Users/chau_le/.pyenv/versions/3.11.0/envs/rag-venv/lib/python3.11/site-packages (from langchain-core!=0.3.0,!=0.3.1,!=0.3.10,!=0.3.11,!=0.3.12,!=0.3.13,!=0.3.14,!=0.3.15,!=0.3.16,!=0.3.17,!=0.3.18,!=0.3.19,!=0.3.2,!=0.3.20,!=0.3.21,!=0.3.22,!=0.3.3,!=0.3.4,!=0.3.5,!=0.3.6,!=0.3.7,!=0.3.8,!=0.3.9,<0.4.0,>=0.2.43->langgraph) (1.33)\n",
      "Requirement already satisfied: langsmith<0.4,>=0.1.125 in /Users/chau_le/.pyenv/versions/3.11.0/envs/rag-venv/lib/python3.11/site-packages (from langchain-core!=0.3.0,!=0.3.1,!=0.3.10,!=0.3.11,!=0.3.12,!=0.3.13,!=0.3.14,!=0.3.15,!=0.3.16,!=0.3.17,!=0.3.18,!=0.3.19,!=0.3.2,!=0.3.20,!=0.3.21,!=0.3.22,!=0.3.3,!=0.3.4,!=0.3.5,!=0.3.6,!=0.3.7,!=0.3.8,!=0.3.9,<0.4.0,>=0.2.43->langgraph) (0.2.3)\n",
      "Requirement already satisfied: packaging<25,>=23.2 in /Users/chau_le/.pyenv/versions/3.11.0/envs/rag-venv/lib/python3.11/site-packages (from langchain-core!=0.3.0,!=0.3.1,!=0.3.10,!=0.3.11,!=0.3.12,!=0.3.13,!=0.3.14,!=0.3.15,!=0.3.16,!=0.3.17,!=0.3.18,!=0.3.19,!=0.3.2,!=0.3.20,!=0.3.21,!=0.3.22,!=0.3.3,!=0.3.4,!=0.3.5,!=0.3.6,!=0.3.7,!=0.3.8,!=0.3.9,<0.4.0,>=0.2.43->langgraph) (24.2)\n",
      "Requirement already satisfied: pydantic<3.0.0,>=2.5.2 in /Users/chau_le/.pyenv/versions/3.11.0/envs/rag-venv/lib/python3.11/site-packages (from langchain-core!=0.3.0,!=0.3.1,!=0.3.10,!=0.3.11,!=0.3.12,!=0.3.13,!=0.3.14,!=0.3.15,!=0.3.16,!=0.3.17,!=0.3.18,!=0.3.19,!=0.3.2,!=0.3.20,!=0.3.21,!=0.3.22,!=0.3.3,!=0.3.4,!=0.3.5,!=0.3.6,!=0.3.7,!=0.3.8,!=0.3.9,<0.4.0,>=0.2.43->langgraph) (2.10.3)\n",
      "Requirement already satisfied: tenacity!=8.4.0,<10.0.0,>=8.1.0 in /Users/chau_le/.pyenv/versions/3.11.0/envs/rag-venv/lib/python3.11/site-packages (from langchain-core!=0.3.0,!=0.3.1,!=0.3.10,!=0.3.11,!=0.3.12,!=0.3.13,!=0.3.14,!=0.3.15,!=0.3.16,!=0.3.17,!=0.3.18,!=0.3.19,!=0.3.2,!=0.3.20,!=0.3.21,!=0.3.22,!=0.3.3,!=0.3.4,!=0.3.5,!=0.3.6,!=0.3.7,!=0.3.8,!=0.3.9,<0.4.0,>=0.2.43->langgraph) (9.0.0)\n",
      "Requirement already satisfied: typing-extensions>=4.7 in /Users/chau_le/.pyenv/versions/3.11.0/envs/rag-venv/lib/python3.11/site-packages (from langchain-core!=0.3.0,!=0.3.1,!=0.3.10,!=0.3.11,!=0.3.12,!=0.3.13,!=0.3.14,!=0.3.15,!=0.3.16,!=0.3.17,!=0.3.18,!=0.3.19,!=0.3.2,!=0.3.20,!=0.3.21,!=0.3.22,!=0.3.3,!=0.3.4,!=0.3.5,!=0.3.6,!=0.3.7,!=0.3.8,!=0.3.9,<0.4.0,>=0.2.43->langgraph) (4.12.2)\n",
      "Collecting msgpack<2.0.0,>=1.1.0 (from langgraph-checkpoint<3.0.0,>=2.0.10->langgraph)\n",
      "  Downloading msgpack-1.1.0-cp311-cp311-macosx_11_0_arm64.whl.metadata (8.4 kB)\n",
      "Requirement already satisfied: httpx>=0.25.2 in /Users/chau_le/.pyenv/versions/3.11.0/envs/rag-venv/lib/python3.11/site-packages (from langgraph-sdk<0.2.0,>=0.1.42->langgraph) (0.28.1)\n",
      "Requirement already satisfied: orjson>=3.10.1 in /Users/chau_le/.pyenv/versions/3.11.0/envs/rag-venv/lib/python3.11/site-packages (from langgraph-sdk<0.2.0,>=0.1.42->langgraph) (3.10.12)\n",
      "Requirement already satisfied: anyio in /Users/chau_le/.pyenv/versions/3.11.0/envs/rag-venv/lib/python3.11/site-packages (from httpx>=0.25.2->langgraph-sdk<0.2.0,>=0.1.42->langgraph) (4.7.0)\n",
      "Requirement already satisfied: certifi in /Users/chau_le/.pyenv/versions/3.11.0/envs/rag-venv/lib/python3.11/site-packages (from httpx>=0.25.2->langgraph-sdk<0.2.0,>=0.1.42->langgraph) (2024.12.14)\n",
      "Requirement already satisfied: httpcore==1.* in /Users/chau_le/.pyenv/versions/3.11.0/envs/rag-venv/lib/python3.11/site-packages (from httpx>=0.25.2->langgraph-sdk<0.2.0,>=0.1.42->langgraph) (1.0.7)\n",
      "Requirement already satisfied: idna in /Users/chau_le/.pyenv/versions/3.11.0/envs/rag-venv/lib/python3.11/site-packages (from httpx>=0.25.2->langgraph-sdk<0.2.0,>=0.1.42->langgraph) (3.10)\n",
      "Requirement already satisfied: h11<0.15,>=0.13 in /Users/chau_le/.pyenv/versions/3.11.0/envs/rag-venv/lib/python3.11/site-packages (from httpcore==1.*->httpx>=0.25.2->langgraph-sdk<0.2.0,>=0.1.42->langgraph) (0.14.0)\n",
      "Requirement already satisfied: jsonpointer>=1.9 in /Users/chau_le/.pyenv/versions/3.11.0/envs/rag-venv/lib/python3.11/site-packages (from jsonpatch<2.0,>=1.33->langchain-core!=0.3.0,!=0.3.1,!=0.3.10,!=0.3.11,!=0.3.12,!=0.3.13,!=0.3.14,!=0.3.15,!=0.3.16,!=0.3.17,!=0.3.18,!=0.3.19,!=0.3.2,!=0.3.20,!=0.3.21,!=0.3.22,!=0.3.3,!=0.3.4,!=0.3.5,!=0.3.6,!=0.3.7,!=0.3.8,!=0.3.9,<0.4.0,>=0.2.43->langgraph) (3.0.0)\n",
      "Requirement already satisfied: requests<3,>=2 in /Users/chau_le/.pyenv/versions/3.11.0/envs/rag-venv/lib/python3.11/site-packages (from langsmith<0.4,>=0.1.125->langchain-core!=0.3.0,!=0.3.1,!=0.3.10,!=0.3.11,!=0.3.12,!=0.3.13,!=0.3.14,!=0.3.15,!=0.3.16,!=0.3.17,!=0.3.18,!=0.3.19,!=0.3.2,!=0.3.20,!=0.3.21,!=0.3.22,!=0.3.3,!=0.3.4,!=0.3.5,!=0.3.6,!=0.3.7,!=0.3.8,!=0.3.9,<0.4.0,>=0.2.43->langgraph) (2.32.3)\n",
      "Requirement already satisfied: requests-toolbelt<2.0.0,>=1.0.0 in /Users/chau_le/.pyenv/versions/3.11.0/envs/rag-venv/lib/python3.11/site-packages (from langsmith<0.4,>=0.1.125->langchain-core!=0.3.0,!=0.3.1,!=0.3.10,!=0.3.11,!=0.3.12,!=0.3.13,!=0.3.14,!=0.3.15,!=0.3.16,!=0.3.17,!=0.3.18,!=0.3.19,!=0.3.2,!=0.3.20,!=0.3.21,!=0.3.22,!=0.3.3,!=0.3.4,!=0.3.5,!=0.3.6,!=0.3.7,!=0.3.8,!=0.3.9,<0.4.0,>=0.2.43->langgraph) (1.0.0)\n",
      "Requirement already satisfied: annotated-types>=0.6.0 in /Users/chau_le/.pyenv/versions/3.11.0/envs/rag-venv/lib/python3.11/site-packages (from pydantic<3.0.0,>=2.5.2->langchain-core!=0.3.0,!=0.3.1,!=0.3.10,!=0.3.11,!=0.3.12,!=0.3.13,!=0.3.14,!=0.3.15,!=0.3.16,!=0.3.17,!=0.3.18,!=0.3.19,!=0.3.2,!=0.3.20,!=0.3.21,!=0.3.22,!=0.3.3,!=0.3.4,!=0.3.5,!=0.3.6,!=0.3.7,!=0.3.8,!=0.3.9,<0.4.0,>=0.2.43->langgraph) (0.7.0)\n",
      "Requirement already satisfied: pydantic-core==2.27.1 in /Users/chau_le/.pyenv/versions/3.11.0/envs/rag-venv/lib/python3.11/site-packages (from pydantic<3.0.0,>=2.5.2->langchain-core!=0.3.0,!=0.3.1,!=0.3.10,!=0.3.11,!=0.3.12,!=0.3.13,!=0.3.14,!=0.3.15,!=0.3.16,!=0.3.17,!=0.3.18,!=0.3.19,!=0.3.2,!=0.3.20,!=0.3.21,!=0.3.22,!=0.3.3,!=0.3.4,!=0.3.5,!=0.3.6,!=0.3.7,!=0.3.8,!=0.3.9,<0.4.0,>=0.2.43->langgraph) (2.27.1)\n",
      "Requirement already satisfied: charset-normalizer<4,>=2 in /Users/chau_le/.pyenv/versions/3.11.0/envs/rag-venv/lib/python3.11/site-packages (from requests<3,>=2->langsmith<0.4,>=0.1.125->langchain-core!=0.3.0,!=0.3.1,!=0.3.10,!=0.3.11,!=0.3.12,!=0.3.13,!=0.3.14,!=0.3.15,!=0.3.16,!=0.3.17,!=0.3.18,!=0.3.19,!=0.3.2,!=0.3.20,!=0.3.21,!=0.3.22,!=0.3.3,!=0.3.4,!=0.3.5,!=0.3.6,!=0.3.7,!=0.3.8,!=0.3.9,<0.4.0,>=0.2.43->langgraph) (3.4.0)\n",
      "Requirement already satisfied: urllib3<3,>=1.21.1 in /Users/chau_le/.pyenv/versions/3.11.0/envs/rag-venv/lib/python3.11/site-packages (from requests<3,>=2->langsmith<0.4,>=0.1.125->langchain-core!=0.3.0,!=0.3.1,!=0.3.10,!=0.3.11,!=0.3.12,!=0.3.13,!=0.3.14,!=0.3.15,!=0.3.16,!=0.3.17,!=0.3.18,!=0.3.19,!=0.3.2,!=0.3.20,!=0.3.21,!=0.3.22,!=0.3.3,!=0.3.4,!=0.3.5,!=0.3.6,!=0.3.7,!=0.3.8,!=0.3.9,<0.4.0,>=0.2.43->langgraph) (2.2.3)\n",
      "Requirement already satisfied: sniffio>=1.1 in /Users/chau_le/.pyenv/versions/3.11.0/envs/rag-venv/lib/python3.11/site-packages (from anyio->httpx>=0.25.2->langgraph-sdk<0.2.0,>=0.1.42->langgraph) (1.3.1)\n",
      "Downloading langgraph-0.2.69-py3-none-any.whl (148 kB)\n",
      "Downloading langgraph_checkpoint-2.0.10-py3-none-any.whl (37 kB)\n",
      "Downloading langgraph_sdk-0.1.51-py3-none-any.whl (44 kB)\n",
      "Downloading msgpack-1.1.0-cp311-cp311-macosx_11_0_arm64.whl (81 kB)\n",
      "Installing collected packages: msgpack, langgraph-sdk, langgraph-checkpoint, langgraph\n",
      "Successfully installed langgraph-0.2.69 langgraph-checkpoint-2.0.10 langgraph-sdk-0.1.51 msgpack-1.1.0\n",
      "\n",
      "\u001b[1m[\u001b[0m\u001b[34;49mnotice\u001b[0m\u001b[1;39;49m]\u001b[0m\u001b[39;49m A new release of pip is available: \u001b[0m\u001b[31;49m24.3.1\u001b[0m\u001b[39;49m -> \u001b[0m\u001b[32;49m25.0\u001b[0m\n",
      "\u001b[1m[\u001b[0m\u001b[34;49mnotice\u001b[0m\u001b[1;39;49m]\u001b[0m\u001b[39;49m To update, run: \u001b[0m\u001b[32;49mpip install --upgrade pip\u001b[0m\n"
     ]
    }
   ],
   "source": [
    "! pip install langgraph"
   ]
  },
  {
   "cell_type": "code",
   "execution_count": 28,
   "metadata": {},
   "outputs": [],
   "source": [
    "from typing import Annotated\n",
    "\n",
    "from typing_extensions import TypedDict\n",
    "\n",
    "from langgraph.graph import StateGraph, START, END\n",
    "from langgraph.graph.message import add_messages\n",
    "\n",
    "\n",
    "class State(TypedDict):\n",
    "    # Messages have the type \"list\". The `add_messages` function\n",
    "    # in the annotation defines how this state key should be updated\n",
    "    # (in this case, it appends messages to the list, rather than overwriting them)\n",
    "    messages: Annotated[list, add_messages]\n",
    "\n"
   ]
  },
  {
   "cell_type": "code",
   "execution_count": 32,
   "metadata": {},
   "outputs": [],
   "source": [
    "def chatbot_func(state: State):\n",
    "    return {\"messages\": [rag_chain.invoke({\"question\": state[\"messages\"]})]}\n"
   ]
  },
  {
   "cell_type": "code",
   "execution_count": 70,
   "metadata": {},
   "outputs": [
    {
     "data": {
      "text/plain": [
       "<langgraph.graph.state.StateGraph at 0x330b57f50>"
      ]
     },
     "execution_count": 70,
     "metadata": {},
     "output_type": "execute_result"
    }
   ],
   "source": [
    "llm = ChatOpenAI(model_name=\"gpt-3.5-turbo\", temperature=0, base_url=os.environ['OPENAI_BASE_URL'])\n",
    "\n",
    "rag_chain = (\n",
    "    {\"context\": retriever | format_docs, \"question\": RunnablePassthrough()}\n",
    "    | prompt\n",
    "    | llm\n",
    ")\n",
    "\n",
    "def chatbot_func(state: State):\n",
    "    return {\"messages\": [llm.invoke(state[\"messages\"])]}\n",
    "\n",
    "\n",
    "del graph_builder\n",
    "graph_builder = StateGraph(State)\n",
    "\n",
    "# The first argument is the unique node name\n",
    "# The second argument is the function or object that will be called whenever\n",
    "# the node is used.\n",
    "graph_builder.add_edge(START, \"chatbot\")\n",
    "graph_builder.add_node(\"chatbot\", chatbot_func)\n",
    "graph_builder.add_edge(\"chatbot\", END)\n"
   ]
  },
  {
   "cell_type": "code",
   "execution_count": 71,
   "metadata": {},
   "outputs": [],
   "source": [
    "graph = graph_builder.compile()"
   ]
  },
  {
   "cell_type": "code",
   "execution_count": 72,
   "metadata": {},
   "outputs": [
    {
     "name": "stdout",
     "output_type": "stream",
     "text": [
      "User input: What is Task Decomposition?\n",
      "\n",
      "Event:\n",
      "{'chatbot': {'messages': [AIMessage(content='Task decomposition is the process of breaking down a complex task or project into smaller, more manageable sub-tasks or components. This allows for easier planning, organization, and execution of the overall task. By breaking a task into smaller parts, individuals or teams can focus on completing each sub-task one at a time, leading to a more efficient and effective completion of the overall task. Task decomposition is a common technique used in project management, software development, and other fields to improve productivity and achieve better results.', additional_kwargs={'refusal': None}, response_metadata={'token_usage': {'completion_tokens': 101, 'prompt_tokens': 13, 'total_tokens': 114, 'completion_tokens_details': {'accepted_prediction_tokens': 0, 'audio_tokens': 0, 'reasoning_tokens': 0, 'rejected_prediction_tokens': 0}, 'prompt_tokens_details': {'audio_tokens': 0, 'cached_tokens': 0}}, 'model_name': 'gpt-3.5-turbo-0125', 'system_fingerprint': None, 'finish_reason': 'stop', 'logprobs': None}, id='run-e22b4767-7d91-4862-bbf0-d1ee85ae7054-0', usage_metadata={'input_tokens': 13, 'output_tokens': 101, 'total_tokens': 114, 'input_token_details': {'audio': 0, 'cache_read': 0}, 'output_token_details': {'audio': 0, 'reasoning': 0}})]}}\n",
      "dict_values([{'messages': [AIMessage(content='Task decomposition is the process of breaking down a complex task or project into smaller, more manageable sub-tasks or components. This allows for easier planning, organization, and execution of the overall task. By breaking a task into smaller parts, individuals or teams can focus on completing each sub-task one at a time, leading to a more efficient and effective completion of the overall task. Task decomposition is a common technique used in project management, software development, and other fields to improve productivity and achieve better results.', additional_kwargs={'refusal': None}, response_metadata={'token_usage': {'completion_tokens': 101, 'prompt_tokens': 13, 'total_tokens': 114, 'completion_tokens_details': {'accepted_prediction_tokens': 0, 'audio_tokens': 0, 'reasoning_tokens': 0, 'rejected_prediction_tokens': 0}, 'prompt_tokens_details': {'audio_tokens': 0, 'cached_tokens': 0}}, 'model_name': 'gpt-3.5-turbo-0125', 'system_fingerprint': None, 'finish_reason': 'stop', 'logprobs': None}, id='run-e22b4767-7d91-4862-bbf0-d1ee85ae7054-0', usage_metadata={'input_tokens': 13, 'output_tokens': 101, 'total_tokens': 114, 'input_token_details': {'audio': 0, 'cache_read': 0}, 'output_token_details': {'audio': 0, 'reasoning': 0}})]}])\n",
      "Assistant: Task decomposition is the process of breaking down a complex task or project into smaller, more manageable sub-tasks or components. This allows for easier planning, organization, and execution of the overall task. By breaking a task into smaller parts, individuals or teams can focus on completing each sub-task one at a time, leading to a more efficient and effective completion of the overall task. Task decomposition is a common technique used in project management, software development, and other fields to improve productivity and achieve better results.\n",
      "----------------------------------\n"
     ]
    }
   ],
   "source": [
    "def stream_graph_updates(user_input: str):\n",
    "    print(f'User input: {user_input}')\n",
    "    for event in graph.stream({\"messages\": [{\"role\": \"user\", \"content\": user_input}]}):\n",
    "        print('\\nEvent:')\n",
    "        print(event)\n",
    "        print(event.values())\n",
    "        for value in event.values():\n",
    "            print(\"Assistant:\", value[\"messages\"][-1].content)\n",
    "        print('----------------------------------')\n",
    "\n",
    "\n",
    "stream_graph_updates(\"What is Task Decomposition?\")"
   ]
  },
  {
   "cell_type": "code",
   "execution_count": 74,
   "metadata": {},
   "outputs": [],
   "source": [
    "%%capture --no-stderr\n",
    "%pip install -U tavily-python langchain_community"
   ]
  },
  {
   "cell_type": "code",
   "execution_count": 127,
   "metadata": {},
   "outputs": [],
   "source": [
    "from langchain_community.tools.tavily_search import TavilySearchResults\n",
    "from langgraph.prebuilt import ToolNode, tools_condition\n",
    "\n",
    "\n",
    "tool = TavilySearchResults(max_results=2)\n",
    "tools = [tool]\n",
    "llm_with_tools = llm.bind_tools(tools) # Modification: tell the LLM which tools it can call\n",
    "\n",
    "def chatbot_func(state: State):\n",
    "    return {\"messages\": [llm_with_tools.invoke(state[\"messages\"])]}\n",
    "\n",
    "\n",
    "del graph_builder\n",
    "del graph\n",
    "graph_builder = StateGraph(State)\n",
    "\n",
    "graph_builder.add_node(\"chatbot\", chatbot_func)\n",
    "\n",
    "tool_node = ToolNode(tools=[tool])\n",
    "graph_builder.add_node(\"tools\", tool_node)\n",
    "\n",
    "graph_builder.add_conditional_edges(\n",
    "    \"chatbot\",\n",
    "    tools_condition,\n",
    ")\n",
    "# Any time a tool is called, we return to the chatbot to decide the next step\n",
    "graph_builder.add_edge(\"tools\", \"chatbot\")\n",
    "graph_builder.set_entry_point(\"chatbot\")\n",
    "graph = graph_builder.compile()\n"
   ]
  },
  {
   "cell_type": "code",
   "execution_count": 115,
   "metadata": {},
   "outputs": [
    {
     "data": {
      "image/png": "[encoded data removed]",
      "text/plain": [
       "<IPython.core.display.Image object>"
      ]
     },
     "metadata": {},
     "output_type": "display_data"
    }
   ],
   "source": [
    "from IPython.display import Image, display\n",
    "\n",
    "try:\n",
    "    display(Image(graph.get_graph().draw_mermaid_png()))\n",
    "except Exception:\n",
    "    # This requires some extra dependencies and is optional\n",
    "    pass"
   ]
  },
  {
   "cell_type": "code",
   "execution_count": 128,
   "metadata": {},
   "outputs": [
    {
     "name": "stdout",
     "output_type": "stream",
     "text": [
      "User input: What's a 'node' in LangGraph?\n",
      "\n",
      "Event:\n",
      "{'chatbot': {'messages': [AIMessage(content='', additional_kwargs={'tool_calls': [{'id': 'call_Ye6OCLQ0XJ6lPJB39efg7aw3', 'function': {'arguments': '{\"query\":\"What is a \\'node\\' in LangGraph?\"}', 'name': 'tavily_search_results_json'}, 'type': 'function'}], 'refusal': None}, response_metadata={'token_usage': {'completion_tokens': 28, 'prompt_tokens': 91, 'total_tokens': 119, 'completion_tokens_details': {'accepted_prediction_tokens': 0, 'audio_tokens': 0, 'reasoning_tokens': 0, 'rejected_prediction_tokens': 0}, 'prompt_tokens_details': {'audio_tokens': 0, 'cached_tokens': 0}}, 'model_name': 'gpt-3.5-turbo-0125', 'system_fingerprint': None, 'finish_reason': 'tool_calls', 'logprobs': None}, id='run-9b0184f8-7aca-4a27-8c73-ea53af0fff78-0', tool_calls=[{'name': 'tavily_search_results_json', 'args': {'query': \"What is a 'node' in LangGraph?\"}, 'id': 'call_Ye6OCLQ0XJ6lPJB39efg7aw3', 'type': 'tool_call'}], usage_metadata={'input_tokens': 91, 'output_tokens': 28, 'total_tokens': 119, 'input_token_details': {'audio': 0, 'cache_read': 0}, 'output_token_details': {'audio': 0, 'reasoning': 0}})]}}\n",
      "dict_values([{'messages': [AIMessage(content='', additional_kwargs={'tool_calls': [{'id': 'call_Ye6OCLQ0XJ6lPJB39efg7aw3', 'function': {'arguments': '{\"query\":\"What is a \\'node\\' in LangGraph?\"}', 'name': 'tavily_search_results_json'}, 'type': 'function'}], 'refusal': None}, response_metadata={'token_usage': {'completion_tokens': 28, 'prompt_tokens': 91, 'total_tokens': 119, 'completion_tokens_details': {'accepted_prediction_tokens': 0, 'audio_tokens': 0, 'reasoning_tokens': 0, 'rejected_prediction_tokens': 0}, 'prompt_tokens_details': {'audio_tokens': 0, 'cached_tokens': 0}}, 'model_name': 'gpt-3.5-turbo-0125', 'system_fingerprint': None, 'finish_reason': 'tool_calls', 'logprobs': None}, id='run-9b0184f8-7aca-4a27-8c73-ea53af0fff78-0', tool_calls=[{'name': 'tavily_search_results_json', 'args': {'query': \"What is a 'node' in LangGraph?\"}, 'id': 'call_Ye6OCLQ0XJ6lPJB39efg7aw3', 'type': 'tool_call'}], usage_metadata={'input_tokens': 91, 'output_tokens': 28, 'total_tokens': 119, 'input_token_details': {'audio': 0, 'cache_read': 0}, 'output_token_details': {'audio': 0, 'reasoning': 0}})]}])\n",
      "Assistant: \n",
      "----------------------------------\n",
      "\n",
      "Event:\n",
      "{'tools': {'messages': [ToolMessage(content='[{\"url\": \"https://langchain-ai.github.io/langgraph/concepts/low_level/\", \"content\": \"LangGraph\\'s underlying graph algorithm uses message passing to define a general program. When a Node completes its operation, it sends messages along one or more edges to other node (s). These recipient nodes then execute their functions, pass the resulting messages to the next set of nodes, and the process continues.\"}, {\"url\": \"https://medium.com/@vivekvjnk/langgraph-basics-understanding-state-schema-nodes-and-edges-77f2fd17cae5\", \"content\": \"LangGraph Basics: Understanding State, Schema, Nodes, and Edges | by Story_Teller | Dec, 2024 | Medium LangGraph Basics: Understanding State, Schema, Nodes, and Edges LangGraph Basics: Understanding State, Schema, Nodes, and Edges These predefined structures in the messaging app are synonymous with the schema of the state in LangGraph. Just as a messaging app ensures all interactions (messages) follow a consistent format, the schema in LangGraph ensures the state passed along edges is structured and interpretable. This static schema allows nodes to rely on a consistent state format, ensuring seamless communication along edges throughout the graph. In this article, we explored the foundational concepts of graph-based systems, drawing parallels to familiar messaging applications to illustrate how edges, nodes, and state transitions function seamlessly in dynamic workflows.\"}]', name='tavily_search_results_json', id='9f759b5a-f880-44d7-95e6-aad7dce49ca2', tool_call_id='call_Ye6OCLQ0XJ6lPJB39efg7aw3', artifact={'query': \"What is a 'node' in LangGraph?\", 'follow_up_questions': None, 'answer': None, 'images': [], 'results': [{'title': 'LangGraph Glossary - GitHub Pages', 'url': 'https://langchain-ai.github.io/langgraph/concepts/low_level/', 'content': \"LangGraph's underlying graph algorithm uses message passing to define a general program. When a Node completes its operation, it sends messages along one or more edges to other node (s). These recipient nodes then execute their functions, pass the resulting messages to the next set of nodes, and the process continues.\", 'score': 0.72348577, 'raw_content': None}, {'title': 'LangGraph Basics: Understanding State, Schema, Nodes, and Edges - Medium', 'url': 'https://medium.com/@vivekvjnk/langgraph-basics-understanding-state-schema-nodes-and-edges-77f2fd17cae5', 'content': 'LangGraph Basics: Understanding State, Schema, Nodes, and Edges | by Story_Teller | Dec, 2024 | Medium LangGraph Basics: Understanding State, Schema, Nodes, and Edges LangGraph Basics: Understanding State, Schema, Nodes, and Edges These predefined structures in the messaging app are synonymous with the schema of the state in LangGraph. Just as a messaging app ensures all interactions (messages) follow a consistent format, the schema in LangGraph ensures the state passed along edges is structured and interpretable. This static schema allows nodes to rely on a consistent state format, ensuring seamless communication along edges throughout the graph. In this article, we explored the foundational concepts of graph-based systems, drawing parallels to familiar messaging applications to illustrate how edges, nodes, and state transitions function seamlessly in dynamic workflows.', 'score': 0.6445166, 'raw_content': None}], 'response_time': 1.54})]}}\n",
      "dict_values([{'messages': [ToolMessage(content='[{\"url\": \"https://langchain-ai.github.io/langgraph/concepts/low_level/\", \"content\": \"LangGraph\\'s underlying graph algorithm uses message passing to define a general program. When a Node completes its operation, it sends messages along one or more edges to other node (s). These recipient nodes then execute their functions, pass the resulting messages to the next set of nodes, and the process continues.\"}, {\"url\": \"https://medium.com/@vivekvjnk/langgraph-basics-understanding-state-schema-nodes-and-edges-77f2fd17cae5\", \"content\": \"LangGraph Basics: Understanding State, Schema, Nodes, and Edges | by Story_Teller | Dec, 2024 | Medium LangGraph Basics: Understanding State, Schema, Nodes, and Edges LangGraph Basics: Understanding State, Schema, Nodes, and Edges These predefined structures in the messaging app are synonymous with the schema of the state in LangGraph. Just as a messaging app ensures all interactions (messages) follow a consistent format, the schema in LangGraph ensures the state passed along edges is structured and interpretable. This static schema allows nodes to rely on a consistent state format, ensuring seamless communication along edges throughout the graph. In this article, we explored the foundational concepts of graph-based systems, drawing parallels to familiar messaging applications to illustrate how edges, nodes, and state transitions function seamlessly in dynamic workflows.\"}]', name='tavily_search_results_json', id='9f759b5a-f880-44d7-95e6-aad7dce49ca2', tool_call_id='call_Ye6OCLQ0XJ6lPJB39efg7aw3', artifact={'query': \"What is a 'node' in LangGraph?\", 'follow_up_questions': None, 'answer': None, 'images': [], 'results': [{'title': 'LangGraph Glossary - GitHub Pages', 'url': 'https://langchain-ai.github.io/langgraph/concepts/low_level/', 'content': \"LangGraph's underlying graph algorithm uses message passing to define a general program. When a Node completes its operation, it sends messages along one or more edges to other node (s). These recipient nodes then execute their functions, pass the resulting messages to the next set of nodes, and the process continues.\", 'score': 0.72348577, 'raw_content': None}, {'title': 'LangGraph Basics: Understanding State, Schema, Nodes, and Edges - Medium', 'url': 'https://medium.com/@vivekvjnk/langgraph-basics-understanding-state-schema-nodes-and-edges-77f2fd17cae5', 'content': 'LangGraph Basics: Understanding State, Schema, Nodes, and Edges | by Story_Teller | Dec, 2024 | Medium LangGraph Basics: Understanding State, Schema, Nodes, and Edges LangGraph Basics: Understanding State, Schema, Nodes, and Edges These predefined structures in the messaging app are synonymous with the schema of the state in LangGraph. Just as a messaging app ensures all interactions (messages) follow a consistent format, the schema in LangGraph ensures the state passed along edges is structured and interpretable. This static schema allows nodes to rely on a consistent state format, ensuring seamless communication along edges throughout the graph. In this article, we explored the foundational concepts of graph-based systems, drawing parallels to familiar messaging applications to illustrate how edges, nodes, and state transitions function seamlessly in dynamic workflows.', 'score': 0.6445166, 'raw_content': None}], 'response_time': 1.54})]}])\n",
      "Assistant: [{\"url\": \"https://langchain-ai.github.io/langgraph/concepts/low_level/\", \"content\": \"LangGraph's underlying graph algorithm uses message passing to define a general program. When a Node completes its operation, it sends messages along one or more edges to other node (s). These recipient nodes then execute their functions, pass the resulting messages to the next set of nodes, and the process continues.\"}, {\"url\": \"https://medium.com/@vivekvjnk/langgraph-basics-understanding-state-schema-nodes-and-edges-77f2fd17cae5\", \"content\": \"LangGraph Basics: Understanding State, Schema, Nodes, and Edges | by Story_Teller | Dec, 2024 | Medium LangGraph Basics: Understanding State, Schema, Nodes, and Edges LangGraph Basics: Understanding State, Schema, Nodes, and Edges These predefined structures in the messaging app are synonymous with the schema of the state in LangGraph. Just as a messaging app ensures all interactions (messages) follow a consistent format, the schema in LangGraph ensures the state passed along edges is structured and interpretable. This static schema allows nodes to rely on a consistent state format, ensuring seamless communication along edges throughout the graph. In this article, we explored the foundational concepts of graph-based systems, drawing parallels to familiar messaging applications to illustrate how edges, nodes, and state transitions function seamlessly in dynamic workflows.\"}]\n",
      "----------------------------------\n",
      "\n",
      "Event:\n",
      "{'chatbot': {'messages': [AIMessage(content=\"In LangGraph, a 'node' is a fundamental component of the underlying graph algorithm. When a node completes its operation, it sends messages along one or more edges to other nodes. These recipient nodes then execute their functions, pass the resulting messages to the next set of nodes, and the process continues. Nodes play a crucial role in defining a general program within LangGraph.\\n\\nYou can find more information about nodes and their role in LangGraph in the following resources:\\n1. [LangGraph's underlying graph algorithm](https://langchain-ai.github.io/langgraph/concepts/low_level/)\\n2. [LangGraph Basics: Understanding State, Schema, Nodes, and Edges](https://medium.com/@vivekvjnk/langgraph-basics-understanding-state-schema-nodes-and-edges-77f2fd17cae5)\", additional_kwargs={'refusal': None}, response_metadata={'token_usage': {'completion_tokens': 171, 'prompt_tokens': 422, 'total_tokens': 593, 'completion_tokens_details': {'accepted_prediction_tokens': 0, 'audio_tokens': 0, 'reasoning_tokens': 0, 'rejected_prediction_tokens': 0}, 'prompt_tokens_details': {'audio_tokens': 0, 'cached_tokens': 0}}, 'model_name': 'gpt-3.5-turbo-0125', 'system_fingerprint': None, 'finish_reason': 'stop', 'logprobs': None}, id='run-8e505e9e-6a08-4eb3-9cd8-21b866c2a841-0', usage_metadata={'input_tokens': 422, 'output_tokens': 171, 'total_tokens': 593, 'input_token_details': {'audio': 0, 'cache_read': 0}, 'output_token_details': {'audio': 0, 'reasoning': 0}})]}}\n",
      "dict_values([{'messages': [AIMessage(content=\"In LangGraph, a 'node' is a fundamental component of the underlying graph algorithm. When a node completes its operation, it sends messages along one or more edges to other nodes. These recipient nodes then execute their functions, pass the resulting messages to the next set of nodes, and the process continues. Nodes play a crucial role in defining a general program within LangGraph.\\n\\nYou can find more information about nodes and their role in LangGraph in the following resources:\\n1. [LangGraph's underlying graph algorithm](https://langchain-ai.github.io/langgraph/concepts/low_level/)\\n2. [LangGraph Basics: Understanding State, Schema, Nodes, and Edges](https://medium.com/@vivekvjnk/langgraph-basics-understanding-state-schema-nodes-and-edges-77f2fd17cae5)\", additional_kwargs={'refusal': None}, response_metadata={'token_usage': {'completion_tokens': 171, 'prompt_tokens': 422, 'total_tokens': 593, 'completion_tokens_details': {'accepted_prediction_tokens': 0, 'audio_tokens': 0, 'reasoning_tokens': 0, 'rejected_prediction_tokens': 0}, 'prompt_tokens_details': {'audio_tokens': 0, 'cached_tokens': 0}}, 'model_name': 'gpt-3.5-turbo-0125', 'system_fingerprint': None, 'finish_reason': 'stop', 'logprobs': None}, id='run-8e505e9e-6a08-4eb3-9cd8-21b866c2a841-0', usage_metadata={'input_tokens': 422, 'output_tokens': 171, 'total_tokens': 593, 'input_token_details': {'audio': 0, 'cache_read': 0}, 'output_token_details': {'audio': 0, 'reasoning': 0}})]}])\n",
      "Assistant: In LangGraph, a 'node' is a fundamental component of the underlying graph algorithm. When a node completes its operation, it sends messages along one or more edges to other nodes. These recipient nodes then execute their functions, pass the resulting messages to the next set of nodes, and the process continues. Nodes play a crucial role in defining a general program within LangGraph.\n",
      "\n",
      "You can find more information about nodes and their role in LangGraph in the following resources:\n",
      "1. [LangGraph's underlying graph algorithm](https://langchain-ai.github.io/langgraph/concepts/low_level/)\n",
      "2. [LangGraph Basics: Understanding State, Schema, Nodes, and Edges](https://medium.com/@vivekvjnk/langgraph-basics-understanding-state-schema-nodes-and-edges-77f2fd17cae5)\n",
      "----------------------------------\n"
     ]
    }
   ],
   "source": [
    "def stream_graph_updates(user_input: str):\n",
    "    print(f'User input: {user_input}')\n",
    "    for event in graph.stream({\"messages\": [{\"role\": \"user\", \"content\": user_input}]}):\n",
    "        print('\\nEvent:')\n",
    "        print(event)\n",
    "        print(event.values())\n",
    "        for value in event.values():\n",
    "            print(\"Assistant:\", value[\"messages\"][-1].content)\n",
    "        print('----------------------------------')\n",
    "\n",
    "\n",
    "stream_graph_updates(\"What's a 'node' in LangGraph?\")"
   ]
  }
 ],
 "metadata": {
  "kernelspec": {
   "display_name": "rag-venv",
   "language": "python",
   "name": "python3"
  },
  "language_info": {
   "codemirror_mode": {
    "name": "ipython",
    "version": 3
   },
   "file_extension": ".py",
   "mimetype": "text/x-python",
   "name": "python",
   "nbconvert_exporter": "python",
   "pygments_lexer": "ipython3",
   "version": "3.11.0"
  }
 },
 "nbformat": 4,
 "nbformat_minor": 2
}
